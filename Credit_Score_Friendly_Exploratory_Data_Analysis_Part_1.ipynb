{
 "cells": [
  {
   "cell_type": "markdown",
   "id": "f2d53d0b",
   "metadata": {
    "ExecuteTime": {
     "end_time": "2022-09-12T07:52:32.356310Z",
     "start_time": "2022-09-12T07:52:32.339150Z"
    }
   },
   "source": [
    "<p style=\"background-color:#FDFEFE; font-family:arial; color:#09042b; font-size:350%; text-align:center; border-radius:10px 10px;\"></p>\n",
    "\n",
    "<p style=\"background-color:#FDFEFE; font-family:arial; color:#09042b; font-size:400%; text-align:center; border-radius:10px 10px;\"> Credit Score Classification</p>\n",
    "\n",
    "<p style=\"background-color:#FDFEFE; font-family:arial; color:#09042b; font-size:350%; text-align:center; border-radius:10px 10px;\"> EDA Project Part 1 </p>\n",
    "\n",
    "\n",
    "<img src=\"https://t3.ftcdn.net/jpg/04/62/56/22/360_F_462562264_vzm8SoTxft5Ug3AEHjoPyHndtSGx6ymb.jpg\" align=\"center\"/>"
   ]
  },
  {
   "cell_type": "markdown",
   "id": "21267599",
   "metadata": {},
   "source": [
    "<a id=\"toc\"></a>\n",
    "\n",
    "## <p style=\"background-color:#7da6ff; font-family:arial; color:#09042b; font-size:175%; text-align:center; border-radius:10px 10px;\">Content</p>\n",
    "\n",
    "* [Aim of the Project](#0)\n",
    "* [Dataset Info](#1)\n",
    "* [Importing Related Libraries](#2)\n",
    "* [Recognizing & Understanding Data](#3)\n",
    "* [Cleaning Data](#4)    \n",
    "* [Handling with Missing Values](#5)\n",
    "* [Handling with Outliers](#6)"
   ]
  },
  {
   "cell_type": "markdown",
   "id": "61b511f0",
   "metadata": {},
   "source": [
    "## <p style=\"background-color:#7da6ff; font-family:arial; color:#09042b; font-size:175%; text-align:center; border-radius:10px 10px;\">Aim of the Project</p>\n",
    "\n",
    "<a id=\"0\"></a>\n",
    "<a href=\"#toc\" class=\"btn btn-primary btn-sm\" role=\"button\" aria-pressed=\"true\" \n",
    "style=\"color:#09042b; background-color:#7da6ff\" data-toggle=\"popover\">Content</a>\n",
    "\n",
    "\n",
    "A credit score is a number or a class that depicts a consumer’s creditworthiness. The higher the score, the better a borrower looks to potential lenders.\n",
    "\n",
    "A credit score is based on credit history: number of open accounts, total levels of debt, repayment history, and other factors. Lenders use credit scores to evaluate the probability that an individual will repay loans in a timely manner.\n",
    "\n",
    "In this project to recognize and understand the credit score classification data, a comprehensive Exploratory Data Analysis (EDA) was conducted and the data was prepared to implement the Machine Learning Algorithms.\n"
   ]
  },
  {
   "cell_type": "markdown",
   "id": "cced7d77",
   "metadata": {},
   "source": [
    "## <p style=\"background-color:#7da6ff; font-family:arial; color:#09042b; font-size:175%; text-align:center; border-radius:10px 10px;\">Dataset Info</p>\n",
    "\n",
    "<a id=\"1\"></a>\n",
    "<a href=\"#toc\" class=\"btn btn-primary btn-sm\" role=\"button\" aria-pressed=\"true\" \n",
    "style=\"color:#09042b; background-color:#7da6ff\" data-toggle=\"popover\">Content</a>\n",
    "\n",
    "\n",
    "The Credit score classification dataset has 100,000 entries, 12,500 different customers and 28 columns. Each entry contains the following information about customers:\n",
    "\n",
    "**ID :** a unique identification of an entry\n",
    "\n",
    "**Customer_ID :** a unique identification of a person\n",
    "\n",
    "**Month :** the month of the year\n",
    "\n",
    "**Name :** the name of a person\n",
    "\n",
    "**Age :** the age of the person\n",
    "\n",
    "**SSN :** the social security number of a person\n",
    "\n",
    "**Occupation :** the occupation of the person\n",
    "\n",
    "**Annual_Income :** the annual income of the person\n",
    "\n",
    "**Monthly_Inhand_Salary :** the monthly base salary of a person\n",
    "\n",
    "**Num_Bank_Accounts :** the number of bank accounts a person holds\n",
    "\n",
    "**Num_Credit_Card :** the number of other credit cards held by a person\n",
    "\n",
    "**Interest_Rate :** the interest rate on credit card\n",
    "\n",
    "**Num_of_Loan :** the number of loans taken from the bank\n",
    "\n",
    "**Type_of_Loan :** the types of loan taken by a person\n",
    "\n",
    "**Delay_from_due_date :** the average number of days delayed from the payment date\n",
    "\n",
    "**Num_of_Delayed_Payment :** the average number of payments delayed by a person\n",
    "\n",
    "**Changed_Credit_Limit :** the percentage change in credit card limit\n",
    "\n",
    "**Num_Credit_Inquiries :** the number of credit card inquiries\n",
    "\n",
    "**Credit_Mix :** the classification of the mix of credits\n",
    "\n",
    "**Outstanding_Debt :** the remaining debt to be paid (in USD)\n",
    "\n",
    "**Credit_Utilization_Ratio :** the utilization ratio of credit card\n",
    "\n",
    "**Credit_History_Age :** the age of credit history of the person\n",
    "\n",
    "**Payment_of_Min_Amount :** whether only the minimum amount was paid by the person\n",
    "\n",
    "**Total_EMI_per_month :** the monthly EMI payments (in USD)\n",
    "\n",
    "**Amount_invested_monthly :** the monthly amount invested by the customer (in USD)\n",
    "\n",
    "**Payment_Behaviour :** the payment behavior of the customer (in USD)\n",
    "\n",
    "**Monthly_Balance :** the monthly balance amount of the customer (in USD)\n",
    "\n",
    "**Credit_Score :** the bracket of credit score (Poor, Standard, Good)\n"
   ]
  },
  {
   "cell_type": "markdown",
   "id": "99846b33",
   "metadata": {},
   "source": [
    "## <p style=\"background-color:#7da6ff; font-family:arial; color:#09042b; font-size:175%; text-align:center; border-radius:10px 10px;\">Importing Related Libraries</p>\n",
    "\n",
    "<a id=\"2\"></a>\n",
    "<a href=\"#toc\" class=\"btn btn-primary btn-sm\" role=\"button\" aria-pressed=\"true\" \n",
    "style=\"color:#09042b; background-color:#7da6ff\" data-toggle=\"popover\">Content</a>"
   ]
  },
  {
   "cell_type": "code",
   "execution_count": 73,
   "id": "610b9174",
   "metadata": {
    "ExecuteTime": {
     "end_time": "2022-09-12T10:24:40.920056Z",
     "start_time": "2022-09-12T10:24:40.898978Z"
    }
   },
   "outputs": [],
   "source": [
    "# import data analysis and visualisation libraries\n",
    "import numpy as np\n",
    "import pandas as pd\n",
    "import matplotlib.pyplot as plt\n",
    "from matplotlib import patches\n",
    "import seaborn as sns\n",
    "\n",
    "# import warnings to suppress warnings\n",
    "import warnings\n",
    "warnings.filterwarnings(\"ignore\")\n",
    "\n",
    "# Statistics functions\n",
    "from scipy.stats import norm\n",
    "from scipy import stats\n",
    "from scipy.stats import chi2_contingency\n",
    "from scipy.stats import chi2\n",
    "\n",
    "# Changing the figure size of a seaborn axes \n",
    "sns.set(rc={\"figure.figsize\": (10, 6)})\n",
    "\n",
    "# The style parameters control properties\n",
    "sns.set_style(\"whitegrid\")\n",
    "\n",
    "# To display maximum columns\n",
    "pd.set_option('display.max_columns', None)\n",
    "\n",
    "# To display maximum rows\n",
    "pd.set_option('display.max_rows', None)"
   ]
  },
  {
   "cell_type": "markdown",
   "id": "3c5b1c34",
   "metadata": {},
   "source": [
    "### <p style=\"background-color:#7da6ff; font-family:arial; color:#09042b; font-size:150%; text-align:left; border-radius:10px; line-height:1.5; text-align:center;\">Reading the data from file</p>"
   ]
  },
  {
   "cell_type": "code",
   "execution_count": 74,
   "id": "af63f3a6",
   "metadata": {
    "ExecuteTime": {
     "end_time": "2022-09-12T10:24:41.359684Z",
     "start_time": "2022-09-12T10:24:40.921978Z"
    }
   },
   "outputs": [],
   "source": [
    "df= pd.read_csv(\"train.csv\")"
   ]
  },
  {
   "cell_type": "markdown",
   "id": "9c160507",
   "metadata": {},
   "source": [
    "## <p style=\"background-color:#7da6ff; font-family:arial; color:#09042b; font-size:175%; text-align:center; border-radius:10px 10px;\">Recognizing and Understanding Data</p>\n",
    "\n",
    "<a id=\"3\"></a>\n",
    "<a href=\"#toc\" class=\"btn btn-primary btn-sm\" role=\"button\" aria-pressed=\"true\" \n",
    "style=\"color:#09042b; background-color:#7da6ff\" data-toggle=\"popover\">Content</a>"
   ]
  },
  {
   "cell_type": "markdown",
   "id": "1cb77416",
   "metadata": {},
   "source": [
    "### Checking the dataframe with head, tail and sample"
   ]
  },
  {
   "cell_type": "code",
   "execution_count": 75,
   "id": "fcbd2a2f",
   "metadata": {
    "ExecuteTime": {
     "end_time": "2022-09-12T10:24:41.391387Z",
     "start_time": "2022-09-12T10:24:41.361568Z"
    }
   },
   "outputs": [
    {
     "data": {
      "text/html": [
       "<div>\n",
       "<style scoped>\n",
       "    .dataframe tbody tr th:only-of-type {\n",
       "        vertical-align: middle;\n",
       "    }\n",
       "\n",
       "    .dataframe tbody tr th {\n",
       "        vertical-align: top;\n",
       "    }\n",
       "\n",
       "    .dataframe thead th {\n",
       "        text-align: right;\n",
       "    }\n",
       "</style>\n",
       "<table border=\"1\" class=\"dataframe\">\n",
       "  <thead>\n",
       "    <tr style=\"text-align: right;\">\n",
       "      <th></th>\n",
       "      <th>ID</th>\n",
       "      <th>Customer_ID</th>\n",
       "      <th>Month</th>\n",
       "      <th>Name</th>\n",
       "      <th>Age</th>\n",
       "      <th>SSN</th>\n",
       "      <th>Occupation</th>\n",
       "      <th>Annual_Income</th>\n",
       "      <th>Monthly_Inhand_Salary</th>\n",
       "      <th>Num_Bank_Accounts</th>\n",
       "      <th>Num_Credit_Card</th>\n",
       "      <th>Interest_Rate</th>\n",
       "      <th>Num_of_Loan</th>\n",
       "      <th>Type_of_Loan</th>\n",
       "      <th>Delay_from_due_date</th>\n",
       "      <th>Num_of_Delayed_Payment</th>\n",
       "      <th>Changed_Credit_Limit</th>\n",
       "      <th>Num_Credit_Inquiries</th>\n",
       "      <th>Credit_Mix</th>\n",
       "      <th>Outstanding_Debt</th>\n",
       "      <th>Credit_Utilization_Ratio</th>\n",
       "      <th>Credit_History_Age</th>\n",
       "      <th>Payment_of_Min_Amount</th>\n",
       "      <th>Total_EMI_per_month</th>\n",
       "      <th>Amount_invested_monthly</th>\n",
       "      <th>Payment_Behaviour</th>\n",
       "      <th>Monthly_Balance</th>\n",
       "      <th>Credit_Score</th>\n",
       "    </tr>\n",
       "  </thead>\n",
       "  <tbody>\n",
       "    <tr>\n",
       "      <th>0</th>\n",
       "      <td>0x1602</td>\n",
       "      <td>CUS_0xd40</td>\n",
       "      <td>January</td>\n",
       "      <td>Aaron Maashoh</td>\n",
       "      <td>23</td>\n",
       "      <td>821-00-0265</td>\n",
       "      <td>Scientist</td>\n",
       "      <td>19114.12</td>\n",
       "      <td>1824.843333</td>\n",
       "      <td>3</td>\n",
       "      <td>4</td>\n",
       "      <td>3</td>\n",
       "      <td>4</td>\n",
       "      <td>Auto Loan, Credit-Builder Loan, Personal Loan,...</td>\n",
       "      <td>3</td>\n",
       "      <td>7</td>\n",
       "      <td>11.27</td>\n",
       "      <td>4.0</td>\n",
       "      <td>_</td>\n",
       "      <td>809.98</td>\n",
       "      <td>26.822620</td>\n",
       "      <td>22 Years and 1 Months</td>\n",
       "      <td>No</td>\n",
       "      <td>49.574949</td>\n",
       "      <td>80.41529543900253</td>\n",
       "      <td>High_spent_Small_value_payments</td>\n",
       "      <td>312.49408867943663</td>\n",
       "      <td>Good</td>\n",
       "    </tr>\n",
       "    <tr>\n",
       "      <th>1</th>\n",
       "      <td>0x1603</td>\n",
       "      <td>CUS_0xd40</td>\n",
       "      <td>February</td>\n",
       "      <td>Aaron Maashoh</td>\n",
       "      <td>23</td>\n",
       "      <td>821-00-0265</td>\n",
       "      <td>Scientist</td>\n",
       "      <td>19114.12</td>\n",
       "      <td>NaN</td>\n",
       "      <td>3</td>\n",
       "      <td>4</td>\n",
       "      <td>3</td>\n",
       "      <td>4</td>\n",
       "      <td>Auto Loan, Credit-Builder Loan, Personal Loan,...</td>\n",
       "      <td>-1</td>\n",
       "      <td>NaN</td>\n",
       "      <td>11.27</td>\n",
       "      <td>4.0</td>\n",
       "      <td>Good</td>\n",
       "      <td>809.98</td>\n",
       "      <td>31.944960</td>\n",
       "      <td>NaN</td>\n",
       "      <td>No</td>\n",
       "      <td>49.574949</td>\n",
       "      <td>118.28022162236736</td>\n",
       "      <td>Low_spent_Large_value_payments</td>\n",
       "      <td>284.62916249607184</td>\n",
       "      <td>Good</td>\n",
       "    </tr>\n",
       "    <tr>\n",
       "      <th>2</th>\n",
       "      <td>0x1604</td>\n",
       "      <td>CUS_0xd40</td>\n",
       "      <td>March</td>\n",
       "      <td>Aaron Maashoh</td>\n",
       "      <td>-500</td>\n",
       "      <td>821-00-0265</td>\n",
       "      <td>Scientist</td>\n",
       "      <td>19114.12</td>\n",
       "      <td>NaN</td>\n",
       "      <td>3</td>\n",
       "      <td>4</td>\n",
       "      <td>3</td>\n",
       "      <td>4</td>\n",
       "      <td>Auto Loan, Credit-Builder Loan, Personal Loan,...</td>\n",
       "      <td>3</td>\n",
       "      <td>7</td>\n",
       "      <td>_</td>\n",
       "      <td>4.0</td>\n",
       "      <td>Good</td>\n",
       "      <td>809.98</td>\n",
       "      <td>28.609352</td>\n",
       "      <td>22 Years and 3 Months</td>\n",
       "      <td>No</td>\n",
       "      <td>49.574949</td>\n",
       "      <td>81.699521264648</td>\n",
       "      <td>Low_spent_Medium_value_payments</td>\n",
       "      <td>331.2098628537912</td>\n",
       "      <td>Good</td>\n",
       "    </tr>\n",
       "    <tr>\n",
       "      <th>3</th>\n",
       "      <td>0x1605</td>\n",
       "      <td>CUS_0xd40</td>\n",
       "      <td>April</td>\n",
       "      <td>Aaron Maashoh</td>\n",
       "      <td>23</td>\n",
       "      <td>821-00-0265</td>\n",
       "      <td>Scientist</td>\n",
       "      <td>19114.12</td>\n",
       "      <td>NaN</td>\n",
       "      <td>3</td>\n",
       "      <td>4</td>\n",
       "      <td>3</td>\n",
       "      <td>4</td>\n",
       "      <td>Auto Loan, Credit-Builder Loan, Personal Loan,...</td>\n",
       "      <td>5</td>\n",
       "      <td>4</td>\n",
       "      <td>6.27</td>\n",
       "      <td>4.0</td>\n",
       "      <td>Good</td>\n",
       "      <td>809.98</td>\n",
       "      <td>31.377862</td>\n",
       "      <td>22 Years and 4 Months</td>\n",
       "      <td>No</td>\n",
       "      <td>49.574949</td>\n",
       "      <td>199.4580743910713</td>\n",
       "      <td>Low_spent_Small_value_payments</td>\n",
       "      <td>223.45130972736786</td>\n",
       "      <td>Good</td>\n",
       "    </tr>\n",
       "    <tr>\n",
       "      <th>4</th>\n",
       "      <td>0x1606</td>\n",
       "      <td>CUS_0xd40</td>\n",
       "      <td>May</td>\n",
       "      <td>Aaron Maashoh</td>\n",
       "      <td>23</td>\n",
       "      <td>821-00-0265</td>\n",
       "      <td>Scientist</td>\n",
       "      <td>19114.12</td>\n",
       "      <td>1824.843333</td>\n",
       "      <td>3</td>\n",
       "      <td>4</td>\n",
       "      <td>3</td>\n",
       "      <td>4</td>\n",
       "      <td>Auto Loan, Credit-Builder Loan, Personal Loan,...</td>\n",
       "      <td>6</td>\n",
       "      <td>NaN</td>\n",
       "      <td>11.27</td>\n",
       "      <td>4.0</td>\n",
       "      <td>Good</td>\n",
       "      <td>809.98</td>\n",
       "      <td>24.797347</td>\n",
       "      <td>22 Years and 5 Months</td>\n",
       "      <td>No</td>\n",
       "      <td>49.574949</td>\n",
       "      <td>41.420153086217326</td>\n",
       "      <td>High_spent_Medium_value_payments</td>\n",
       "      <td>341.48923103222177</td>\n",
       "      <td>Good</td>\n",
       "    </tr>\n",
       "  </tbody>\n",
       "</table>\n",
       "</div>"
      ],
      "text/plain": [
       "       ID Customer_ID     Month           Name   Age          SSN Occupation  \\\n",
       "0  0x1602   CUS_0xd40   January  Aaron Maashoh    23  821-00-0265  Scientist   \n",
       "1  0x1603   CUS_0xd40  February  Aaron Maashoh    23  821-00-0265  Scientist   \n",
       "2  0x1604   CUS_0xd40     March  Aaron Maashoh  -500  821-00-0265  Scientist   \n",
       "3  0x1605   CUS_0xd40     April  Aaron Maashoh    23  821-00-0265  Scientist   \n",
       "4  0x1606   CUS_0xd40       May  Aaron Maashoh    23  821-00-0265  Scientist   \n",
       "\n",
       "  Annual_Income  Monthly_Inhand_Salary  Num_Bank_Accounts  Num_Credit_Card  \\\n",
       "0      19114.12            1824.843333                  3                4   \n",
       "1      19114.12                    NaN                  3                4   \n",
       "2      19114.12                    NaN                  3                4   \n",
       "3      19114.12                    NaN                  3                4   \n",
       "4      19114.12            1824.843333                  3                4   \n",
       "\n",
       "   Interest_Rate Num_of_Loan  \\\n",
       "0              3           4   \n",
       "1              3           4   \n",
       "2              3           4   \n",
       "3              3           4   \n",
       "4              3           4   \n",
       "\n",
       "                                        Type_of_Loan  Delay_from_due_date  \\\n",
       "0  Auto Loan, Credit-Builder Loan, Personal Loan,...                    3   \n",
       "1  Auto Loan, Credit-Builder Loan, Personal Loan,...                   -1   \n",
       "2  Auto Loan, Credit-Builder Loan, Personal Loan,...                    3   \n",
       "3  Auto Loan, Credit-Builder Loan, Personal Loan,...                    5   \n",
       "4  Auto Loan, Credit-Builder Loan, Personal Loan,...                    6   \n",
       "\n",
       "  Num_of_Delayed_Payment Changed_Credit_Limit  Num_Credit_Inquiries  \\\n",
       "0                      7                11.27                   4.0   \n",
       "1                    NaN                11.27                   4.0   \n",
       "2                      7                    _                   4.0   \n",
       "3                      4                 6.27                   4.0   \n",
       "4                    NaN                11.27                   4.0   \n",
       "\n",
       "  Credit_Mix Outstanding_Debt  Credit_Utilization_Ratio  \\\n",
       "0          _           809.98                 26.822620   \n",
       "1       Good           809.98                 31.944960   \n",
       "2       Good           809.98                 28.609352   \n",
       "3       Good           809.98                 31.377862   \n",
       "4       Good           809.98                 24.797347   \n",
       "\n",
       "      Credit_History_Age Payment_of_Min_Amount  Total_EMI_per_month  \\\n",
       "0  22 Years and 1 Months                    No            49.574949   \n",
       "1                    NaN                    No            49.574949   \n",
       "2  22 Years and 3 Months                    No            49.574949   \n",
       "3  22 Years and 4 Months                    No            49.574949   \n",
       "4  22 Years and 5 Months                    No            49.574949   \n",
       "\n",
       "  Amount_invested_monthly                 Payment_Behaviour  \\\n",
       "0       80.41529543900253   High_spent_Small_value_payments   \n",
       "1      118.28022162236736    Low_spent_Large_value_payments   \n",
       "2         81.699521264648   Low_spent_Medium_value_payments   \n",
       "3       199.4580743910713    Low_spent_Small_value_payments   \n",
       "4      41.420153086217326  High_spent_Medium_value_payments   \n",
       "\n",
       "      Monthly_Balance Credit_Score  \n",
       "0  312.49408867943663         Good  \n",
       "1  284.62916249607184         Good  \n",
       "2   331.2098628537912         Good  \n",
       "3  223.45130972736786         Good  \n",
       "4  341.48923103222177         Good  "
      ]
     },
     "execution_count": 75,
     "metadata": {},
     "output_type": "execute_result"
    }
   ],
   "source": [
    " df.head()"
   ]
  },
  {
   "cell_type": "code",
   "execution_count": 76,
   "id": "0a1b1421",
   "metadata": {
    "ExecuteTime": {
     "end_time": "2022-09-12T10:24:41.423339Z",
     "start_time": "2022-09-12T10:24:41.394304Z"
    }
   },
   "outputs": [
    {
     "data": {
      "text/html": [
       "<div>\n",
       "<style scoped>\n",
       "    .dataframe tbody tr th:only-of-type {\n",
       "        vertical-align: middle;\n",
       "    }\n",
       "\n",
       "    .dataframe tbody tr th {\n",
       "        vertical-align: top;\n",
       "    }\n",
       "\n",
       "    .dataframe thead th {\n",
       "        text-align: right;\n",
       "    }\n",
       "</style>\n",
       "<table border=\"1\" class=\"dataframe\">\n",
       "  <thead>\n",
       "    <tr style=\"text-align: right;\">\n",
       "      <th></th>\n",
       "      <th>ID</th>\n",
       "      <th>Customer_ID</th>\n",
       "      <th>Month</th>\n",
       "      <th>Name</th>\n",
       "      <th>Age</th>\n",
       "      <th>SSN</th>\n",
       "      <th>Occupation</th>\n",
       "      <th>Annual_Income</th>\n",
       "      <th>Monthly_Inhand_Salary</th>\n",
       "      <th>Num_Bank_Accounts</th>\n",
       "      <th>Num_Credit_Card</th>\n",
       "      <th>Interest_Rate</th>\n",
       "      <th>Num_of_Loan</th>\n",
       "      <th>Type_of_Loan</th>\n",
       "      <th>Delay_from_due_date</th>\n",
       "      <th>Num_of_Delayed_Payment</th>\n",
       "      <th>Changed_Credit_Limit</th>\n",
       "      <th>Num_Credit_Inquiries</th>\n",
       "      <th>Credit_Mix</th>\n",
       "      <th>Outstanding_Debt</th>\n",
       "      <th>Credit_Utilization_Ratio</th>\n",
       "      <th>Credit_History_Age</th>\n",
       "      <th>Payment_of_Min_Amount</th>\n",
       "      <th>Total_EMI_per_month</th>\n",
       "      <th>Amount_invested_monthly</th>\n",
       "      <th>Payment_Behaviour</th>\n",
       "      <th>Monthly_Balance</th>\n",
       "      <th>Credit_Score</th>\n",
       "    </tr>\n",
       "  </thead>\n",
       "  <tbody>\n",
       "    <tr>\n",
       "      <th>99995</th>\n",
       "      <td>0x25fe9</td>\n",
       "      <td>CUS_0x942c</td>\n",
       "      <td>April</td>\n",
       "      <td>Nicks</td>\n",
       "      <td>25</td>\n",
       "      <td>078-73-5990</td>\n",
       "      <td>Mechanic</td>\n",
       "      <td>39628.99</td>\n",
       "      <td>3359.415833</td>\n",
       "      <td>4</td>\n",
       "      <td>6</td>\n",
       "      <td>7</td>\n",
       "      <td>2</td>\n",
       "      <td>Auto Loan, and Student Loan</td>\n",
       "      <td>23</td>\n",
       "      <td>7</td>\n",
       "      <td>11.5</td>\n",
       "      <td>3.0</td>\n",
       "      <td>_</td>\n",
       "      <td>502.38</td>\n",
       "      <td>34.663572</td>\n",
       "      <td>31 Years and 6 Months</td>\n",
       "      <td>No</td>\n",
       "      <td>35.104023</td>\n",
       "      <td>60.97133255718485</td>\n",
       "      <td>High_spent_Large_value_payments</td>\n",
       "      <td>479.866228</td>\n",
       "      <td>Poor</td>\n",
       "    </tr>\n",
       "    <tr>\n",
       "      <th>99996</th>\n",
       "      <td>0x25fea</td>\n",
       "      <td>CUS_0x942c</td>\n",
       "      <td>May</td>\n",
       "      <td>Nicks</td>\n",
       "      <td>25</td>\n",
       "      <td>078-73-5990</td>\n",
       "      <td>Mechanic</td>\n",
       "      <td>39628.99</td>\n",
       "      <td>3359.415833</td>\n",
       "      <td>4</td>\n",
       "      <td>6</td>\n",
       "      <td>7</td>\n",
       "      <td>2</td>\n",
       "      <td>Auto Loan, and Student Loan</td>\n",
       "      <td>18</td>\n",
       "      <td>7</td>\n",
       "      <td>11.5</td>\n",
       "      <td>3.0</td>\n",
       "      <td>_</td>\n",
       "      <td>502.38</td>\n",
       "      <td>40.565631</td>\n",
       "      <td>31 Years and 7 Months</td>\n",
       "      <td>No</td>\n",
       "      <td>35.104023</td>\n",
       "      <td>54.18595028760385</td>\n",
       "      <td>High_spent_Medium_value_payments</td>\n",
       "      <td>496.65161</td>\n",
       "      <td>Poor</td>\n",
       "    </tr>\n",
       "    <tr>\n",
       "      <th>99997</th>\n",
       "      <td>0x25feb</td>\n",
       "      <td>CUS_0x942c</td>\n",
       "      <td>June</td>\n",
       "      <td>Nicks</td>\n",
       "      <td>25</td>\n",
       "      <td>078-73-5990</td>\n",
       "      <td>Mechanic</td>\n",
       "      <td>39628.99</td>\n",
       "      <td>3359.415833</td>\n",
       "      <td>4</td>\n",
       "      <td>6</td>\n",
       "      <td>5729</td>\n",
       "      <td>2</td>\n",
       "      <td>Auto Loan, and Student Loan</td>\n",
       "      <td>27</td>\n",
       "      <td>6</td>\n",
       "      <td>11.5</td>\n",
       "      <td>3.0</td>\n",
       "      <td>Good</td>\n",
       "      <td>502.38</td>\n",
       "      <td>41.255522</td>\n",
       "      <td>31 Years and 8 Months</td>\n",
       "      <td>No</td>\n",
       "      <td>35.104023</td>\n",
       "      <td>24.02847744864441</td>\n",
       "      <td>High_spent_Large_value_payments</td>\n",
       "      <td>516.809083</td>\n",
       "      <td>Poor</td>\n",
       "    </tr>\n",
       "    <tr>\n",
       "      <th>99998</th>\n",
       "      <td>0x25fec</td>\n",
       "      <td>CUS_0x942c</td>\n",
       "      <td>July</td>\n",
       "      <td>Nicks</td>\n",
       "      <td>25</td>\n",
       "      <td>078-73-5990</td>\n",
       "      <td>Mechanic</td>\n",
       "      <td>39628.99</td>\n",
       "      <td>3359.415833</td>\n",
       "      <td>4</td>\n",
       "      <td>6</td>\n",
       "      <td>7</td>\n",
       "      <td>2</td>\n",
       "      <td>Auto Loan, and Student Loan</td>\n",
       "      <td>20</td>\n",
       "      <td>NaN</td>\n",
       "      <td>11.5</td>\n",
       "      <td>3.0</td>\n",
       "      <td>Good</td>\n",
       "      <td>502.38</td>\n",
       "      <td>33.638208</td>\n",
       "      <td>31 Years and 9 Months</td>\n",
       "      <td>No</td>\n",
       "      <td>35.104023</td>\n",
       "      <td>251.67258219721603</td>\n",
       "      <td>Low_spent_Large_value_payments</td>\n",
       "      <td>319.164979</td>\n",
       "      <td>Standard</td>\n",
       "    </tr>\n",
       "    <tr>\n",
       "      <th>99999</th>\n",
       "      <td>0x25fed</td>\n",
       "      <td>CUS_0x942c</td>\n",
       "      <td>August</td>\n",
       "      <td>Nicks</td>\n",
       "      <td>25</td>\n",
       "      <td>078-73-5990</td>\n",
       "      <td>Mechanic</td>\n",
       "      <td>39628.99_</td>\n",
       "      <td>3359.415833</td>\n",
       "      <td>4</td>\n",
       "      <td>6</td>\n",
       "      <td>7</td>\n",
       "      <td>2</td>\n",
       "      <td>Auto Loan, and Student Loan</td>\n",
       "      <td>18</td>\n",
       "      <td>6</td>\n",
       "      <td>11.5</td>\n",
       "      <td>3.0</td>\n",
       "      <td>Good</td>\n",
       "      <td>502.38</td>\n",
       "      <td>34.192463</td>\n",
       "      <td>31 Years and 10 Months</td>\n",
       "      <td>No</td>\n",
       "      <td>35.104023</td>\n",
       "      <td>167.1638651610451</td>\n",
       "      <td>!@9#%8</td>\n",
       "      <td>393.673696</td>\n",
       "      <td>Poor</td>\n",
       "    </tr>\n",
       "  </tbody>\n",
       "</table>\n",
       "</div>"
      ],
      "text/plain": [
       "            ID Customer_ID   Month   Name Age          SSN Occupation  \\\n",
       "99995  0x25fe9  CUS_0x942c   April  Nicks  25  078-73-5990   Mechanic   \n",
       "99996  0x25fea  CUS_0x942c     May  Nicks  25  078-73-5990   Mechanic   \n",
       "99997  0x25feb  CUS_0x942c    June  Nicks  25  078-73-5990   Mechanic   \n",
       "99998  0x25fec  CUS_0x942c    July  Nicks  25  078-73-5990   Mechanic   \n",
       "99999  0x25fed  CUS_0x942c  August  Nicks  25  078-73-5990   Mechanic   \n",
       "\n",
       "      Annual_Income  Monthly_Inhand_Salary  Num_Bank_Accounts  \\\n",
       "99995      39628.99            3359.415833                  4   \n",
       "99996      39628.99            3359.415833                  4   \n",
       "99997      39628.99            3359.415833                  4   \n",
       "99998      39628.99            3359.415833                  4   \n",
       "99999     39628.99_            3359.415833                  4   \n",
       "\n",
       "       Num_Credit_Card  Interest_Rate Num_of_Loan  \\\n",
       "99995                6              7           2   \n",
       "99996                6              7           2   \n",
       "99997                6           5729           2   \n",
       "99998                6              7           2   \n",
       "99999                6              7           2   \n",
       "\n",
       "                      Type_of_Loan  Delay_from_due_date  \\\n",
       "99995  Auto Loan, and Student Loan                   23   \n",
       "99996  Auto Loan, and Student Loan                   18   \n",
       "99997  Auto Loan, and Student Loan                   27   \n",
       "99998  Auto Loan, and Student Loan                   20   \n",
       "99999  Auto Loan, and Student Loan                   18   \n",
       "\n",
       "      Num_of_Delayed_Payment Changed_Credit_Limit  Num_Credit_Inquiries  \\\n",
       "99995                      7                 11.5                   3.0   \n",
       "99996                      7                 11.5                   3.0   \n",
       "99997                      6                 11.5                   3.0   \n",
       "99998                    NaN                 11.5                   3.0   \n",
       "99999                      6                 11.5                   3.0   \n",
       "\n",
       "      Credit_Mix Outstanding_Debt  Credit_Utilization_Ratio  \\\n",
       "99995          _           502.38                 34.663572   \n",
       "99996          _           502.38                 40.565631   \n",
       "99997       Good           502.38                 41.255522   \n",
       "99998       Good           502.38                 33.638208   \n",
       "99999       Good           502.38                 34.192463   \n",
       "\n",
       "           Credit_History_Age Payment_of_Min_Amount  Total_EMI_per_month  \\\n",
       "99995   31 Years and 6 Months                    No            35.104023   \n",
       "99996   31 Years and 7 Months                    No            35.104023   \n",
       "99997   31 Years and 8 Months                    No            35.104023   \n",
       "99998   31 Years and 9 Months                    No            35.104023   \n",
       "99999  31 Years and 10 Months                    No            35.104023   \n",
       "\n",
       "      Amount_invested_monthly                 Payment_Behaviour  \\\n",
       "99995       60.97133255718485   High_spent_Large_value_payments   \n",
       "99996       54.18595028760385  High_spent_Medium_value_payments   \n",
       "99997       24.02847744864441   High_spent_Large_value_payments   \n",
       "99998      251.67258219721603    Low_spent_Large_value_payments   \n",
       "99999       167.1638651610451                            !@9#%8   \n",
       "\n",
       "      Monthly_Balance Credit_Score  \n",
       "99995      479.866228         Poor  \n",
       "99996       496.65161         Poor  \n",
       "99997      516.809083         Poor  \n",
       "99998      319.164979     Standard  \n",
       "99999      393.673696         Poor  "
      ]
     },
     "execution_count": 76,
     "metadata": {},
     "output_type": "execute_result"
    }
   ],
   "source": [
    "df.tail()"
   ]
  },
  {
   "cell_type": "code",
   "execution_count": 77,
   "id": "0903146b",
   "metadata": {
    "ExecuteTime": {
     "end_time": "2022-09-12T10:24:41.469965Z",
     "start_time": "2022-09-12T10:24:41.424204Z"
    },
    "scrolled": true
   },
   "outputs": [
    {
     "data": {
      "text/html": [
       "<div>\n",
       "<style scoped>\n",
       "    .dataframe tbody tr th:only-of-type {\n",
       "        vertical-align: middle;\n",
       "    }\n",
       "\n",
       "    .dataframe tbody tr th {\n",
       "        vertical-align: top;\n",
       "    }\n",
       "\n",
       "    .dataframe thead th {\n",
       "        text-align: right;\n",
       "    }\n",
       "</style>\n",
       "<table border=\"1\" class=\"dataframe\">\n",
       "  <thead>\n",
       "    <tr style=\"text-align: right;\">\n",
       "      <th></th>\n",
       "      <th>ID</th>\n",
       "      <th>Customer_ID</th>\n",
       "      <th>Month</th>\n",
       "      <th>Name</th>\n",
       "      <th>Age</th>\n",
       "      <th>SSN</th>\n",
       "      <th>Occupation</th>\n",
       "      <th>Annual_Income</th>\n",
       "      <th>Monthly_Inhand_Salary</th>\n",
       "      <th>Num_Bank_Accounts</th>\n",
       "      <th>Num_Credit_Card</th>\n",
       "      <th>Interest_Rate</th>\n",
       "      <th>Num_of_Loan</th>\n",
       "      <th>Type_of_Loan</th>\n",
       "      <th>Delay_from_due_date</th>\n",
       "      <th>Num_of_Delayed_Payment</th>\n",
       "      <th>Changed_Credit_Limit</th>\n",
       "      <th>Num_Credit_Inquiries</th>\n",
       "      <th>Credit_Mix</th>\n",
       "      <th>Outstanding_Debt</th>\n",
       "      <th>Credit_Utilization_Ratio</th>\n",
       "      <th>Credit_History_Age</th>\n",
       "      <th>Payment_of_Min_Amount</th>\n",
       "      <th>Total_EMI_per_month</th>\n",
       "      <th>Amount_invested_monthly</th>\n",
       "      <th>Payment_Behaviour</th>\n",
       "      <th>Monthly_Balance</th>\n",
       "      <th>Credit_Score</th>\n",
       "    </tr>\n",
       "  </thead>\n",
       "  <tbody>\n",
       "    <tr>\n",
       "      <th>83986</th>\n",
       "      <td>0x2021c</td>\n",
       "      <td>CUS_0xaea7</td>\n",
       "      <td>March</td>\n",
       "      <td>Marku</td>\n",
       "      <td>15</td>\n",
       "      <td>899-86-9384</td>\n",
       "      <td>Entrepreneur</td>\n",
       "      <td>80669.44</td>\n",
       "      <td>6502.453333</td>\n",
       "      <td>8</td>\n",
       "      <td>8</td>\n",
       "      <td>29</td>\n",
       "      <td>5</td>\n",
       "      <td>Home Equity Loan, Payday Loan, Credit-Builder ...</td>\n",
       "      <td>46</td>\n",
       "      <td>23</td>\n",
       "      <td>24.55</td>\n",
       "      <td>12.0</td>\n",
       "      <td>Bad</td>\n",
       "      <td>3461.24</td>\n",
       "      <td>26.487737</td>\n",
       "      <td>13 Years and 9 Months</td>\n",
       "      <td>Yes</td>\n",
       "      <td>190.429435</td>\n",
       "      <td>683.5154516568979</td>\n",
       "      <td>Low_spent_Small_value_payments</td>\n",
       "      <td>66.30044669618576</td>\n",
       "      <td>Poor</td>\n",
       "    </tr>\n",
       "    <tr>\n",
       "      <th>11146</th>\n",
       "      <td>0x5750</td>\n",
       "      <td>CUS_0x3513</td>\n",
       "      <td>March</td>\n",
       "      <td>NaN</td>\n",
       "      <td>30</td>\n",
       "      <td>407-97-5354</td>\n",
       "      <td>Accountant</td>\n",
       "      <td>83037.36</td>\n",
       "      <td>6663.780000</td>\n",
       "      <td>8</td>\n",
       "      <td>9</td>\n",
       "      <td>19</td>\n",
       "      <td>6</td>\n",
       "      <td>Debt Consolidation Loan, Auto Loan, Not Specif...</td>\n",
       "      <td>23</td>\n",
       "      <td>18</td>\n",
       "      <td>7.46</td>\n",
       "      <td>9.0</td>\n",
       "      <td>Standard</td>\n",
       "      <td>1446.74</td>\n",
       "      <td>37.991309</td>\n",
       "      <td>8 Years and 10 Months</td>\n",
       "      <td>Yes</td>\n",
       "      <td>263.270240</td>\n",
       "      <td>__10000__</td>\n",
       "      <td>High_spent_Medium_value_payments</td>\n",
       "      <td>429.0965736200333</td>\n",
       "      <td>Poor</td>\n",
       "    </tr>\n",
       "    <tr>\n",
       "      <th>33573</th>\n",
       "      <td>0xdab7</td>\n",
       "      <td>CUS_0x7ad8</td>\n",
       "      <td>June</td>\n",
       "      <td>illyo</td>\n",
       "      <td>25</td>\n",
       "      <td>614-62-5951</td>\n",
       "      <td>Accountant</td>\n",
       "      <td>8079.46</td>\n",
       "      <td>423.288333</td>\n",
       "      <td>7</td>\n",
       "      <td>7</td>\n",
       "      <td>23</td>\n",
       "      <td>5</td>\n",
       "      <td>Mortgage Loan, Mortgage Loan, Auto Loan, Stude...</td>\n",
       "      <td>24</td>\n",
       "      <td>13</td>\n",
       "      <td>13.76</td>\n",
       "      <td>13.0</td>\n",
       "      <td>Standard</td>\n",
       "      <td>1515.52</td>\n",
       "      <td>35.277260</td>\n",
       "      <td>13 Years and 7 Months</td>\n",
       "      <td>Yes</td>\n",
       "      <td>25.585426</td>\n",
       "      <td>41.84261163243214</td>\n",
       "      <td>Low_spent_Small_value_payments</td>\n",
       "      <td>264.90079535402754</td>\n",
       "      <td>Poor</td>\n",
       "    </tr>\n",
       "    <tr>\n",
       "      <th>15458</th>\n",
       "      <td>0x7094</td>\n",
       "      <td>CUS_0x8927</td>\n",
       "      <td>March</td>\n",
       "      <td>Oreskovicw</td>\n",
       "      <td>28</td>\n",
       "      <td>184-06-0856</td>\n",
       "      <td>Media_Manager</td>\n",
       "      <td>29758.46</td>\n",
       "      <td>2687.871667</td>\n",
       "      <td>5</td>\n",
       "      <td>6</td>\n",
       "      <td>8</td>\n",
       "      <td>3</td>\n",
       "      <td>Student Loan, Home Equity Loan, and Payday Loan</td>\n",
       "      <td>28</td>\n",
       "      <td>17_</td>\n",
       "      <td>10.79</td>\n",
       "      <td>4.0</td>\n",
       "      <td>_</td>\n",
       "      <td>817.45</td>\n",
       "      <td>31.274861</td>\n",
       "      <td>26 Years and 10 Months</td>\n",
       "      <td>No</td>\n",
       "      <td>71.506030</td>\n",
       "      <td>140.15230165146866</td>\n",
       "      <td>Low_spent_Small_value_payments</td>\n",
       "      <td>347.12883484323896</td>\n",
       "      <td>Standard</td>\n",
       "    </tr>\n",
       "    <tr>\n",
       "      <th>21112</th>\n",
       "      <td>0x91b6</td>\n",
       "      <td>CUS_0x6aec</td>\n",
       "      <td>January</td>\n",
       "      <td>Matt Dailyf</td>\n",
       "      <td>35</td>\n",
       "      <td>511-89-0913</td>\n",
       "      <td>Journalist</td>\n",
       "      <td>9290.25</td>\n",
       "      <td>478.187500</td>\n",
       "      <td>6</td>\n",
       "      <td>7</td>\n",
       "      <td>32</td>\n",
       "      <td>9</td>\n",
       "      <td>Home Equity Loan, Home Equity Loan, Payday Loa...</td>\n",
       "      <td>24</td>\n",
       "      <td>19</td>\n",
       "      <td>9.28</td>\n",
       "      <td>8.0</td>\n",
       "      <td>Bad</td>\n",
       "      <td>1633.87</td>\n",
       "      <td>27.546218</td>\n",
       "      <td>14 Years and 5 Months</td>\n",
       "      <td>Yes</td>\n",
       "      <td>40.856737</td>\n",
       "      <td>NaN</td>\n",
       "      <td>Low_spent_Small_value_payments</td>\n",
       "      <td>256.6390337154511</td>\n",
       "      <td>Poor</td>\n",
       "    </tr>\n",
       "    <tr>\n",
       "      <th>48621</th>\n",
       "      <td>0x132e3</td>\n",
       "      <td>CUS_0x2bf6</td>\n",
       "      <td>June</td>\n",
       "      <td>Jed Horowitzt</td>\n",
       "      <td>38</td>\n",
       "      <td>087-74-0376</td>\n",
       "      <td>Scientist</td>\n",
       "      <td>59319.42</td>\n",
       "      <td>4760.285000</td>\n",
       "      <td>5</td>\n",
       "      <td>4</td>\n",
       "      <td>13</td>\n",
       "      <td>5</td>\n",
       "      <td>Payday Loan, Auto Loan, Not Specified, Mortgag...</td>\n",
       "      <td>25</td>\n",
       "      <td>12</td>\n",
       "      <td>9.58</td>\n",
       "      <td>7.0</td>\n",
       "      <td>Standard</td>\n",
       "      <td>2569.72</td>\n",
       "      <td>23.025379</td>\n",
       "      <td>5 Years and 9 Months</td>\n",
       "      <td>Yes</td>\n",
       "      <td>207.849623</td>\n",
       "      <td>165.29048098112247</td>\n",
       "      <td>High_spent_Medium_value_payments</td>\n",
       "      <td>352.8883964439985</td>\n",
       "      <td>Standard</td>\n",
       "    </tr>\n",
       "    <tr>\n",
       "      <th>89620</th>\n",
       "      <td>0x2231e</td>\n",
       "      <td>CUS_0x6cf6</td>\n",
       "      <td>May</td>\n",
       "      <td>Alwynt</td>\n",
       "      <td>43</td>\n",
       "      <td>#F%$D@*&amp;8</td>\n",
       "      <td>Musician</td>\n",
       "      <td>105774.57_</td>\n",
       "      <td>8540.547500</td>\n",
       "      <td>5</td>\n",
       "      <td>5</td>\n",
       "      <td>16</td>\n",
       "      <td>2</td>\n",
       "      <td>Auto Loan, and Payday Loan</td>\n",
       "      <td>25</td>\n",
       "      <td>12</td>\n",
       "      <td>15.38</td>\n",
       "      <td>159.0</td>\n",
       "      <td>Standard</td>\n",
       "      <td>582.13</td>\n",
       "      <td>27.090660</td>\n",
       "      <td>NaN</td>\n",
       "      <td>Yes</td>\n",
       "      <td>148.655532</td>\n",
       "      <td>478.5020102286361</td>\n",
       "      <td>Low_spent_Medium_value_payments</td>\n",
       "      <td>506.89720806195197</td>\n",
       "      <td>Standard</td>\n",
       "    </tr>\n",
       "    <tr>\n",
       "      <th>13763</th>\n",
       "      <td>0x66a5</td>\n",
       "      <td>CUS_0x1009</td>\n",
       "      <td>April</td>\n",
       "      <td>Arunah</td>\n",
       "      <td>26</td>\n",
       "      <td>063-67-6938</td>\n",
       "      <td>Mechanic</td>\n",
       "      <td>52312.68</td>\n",
       "      <td>4250.390000</td>\n",
       "      <td>6</td>\n",
       "      <td>5</td>\n",
       "      <td>17</td>\n",
       "      <td>1094</td>\n",
       "      <td>Not Specified, Home Equity Loan, Credit-Builde...</td>\n",
       "      <td>10</td>\n",
       "      <td>18</td>\n",
       "      <td>9.73</td>\n",
       "      <td>2.0</td>\n",
       "      <td>_</td>\n",
       "      <td>202.68_</td>\n",
       "      <td>24.996239</td>\n",
       "      <td>NaN</td>\n",
       "      <td>Yes</td>\n",
       "      <td>108.366467</td>\n",
       "      <td>171.4504427290597</td>\n",
       "      <td>High_spent_Small_value_payments</td>\n",
       "      <td>405.22209014568483</td>\n",
       "      <td>Standard</td>\n",
       "    </tr>\n",
       "    <tr>\n",
       "      <th>45430</th>\n",
       "      <td>0x12030</td>\n",
       "      <td>CUS_0x7955</td>\n",
       "      <td>July</td>\n",
       "      <td>Caroline Valetkevitchr</td>\n",
       "      <td>33</td>\n",
       "      <td>294-52-2292</td>\n",
       "      <td>Entrepreneur</td>\n",
       "      <td>42250.77</td>\n",
       "      <td>3363.897500</td>\n",
       "      <td>0</td>\n",
       "      <td>4</td>\n",
       "      <td>3</td>\n",
       "      <td>0</td>\n",
       "      <td>NaN</td>\n",
       "      <td>14</td>\n",
       "      <td>3</td>\n",
       "      <td>9.69</td>\n",
       "      <td>0.0</td>\n",
       "      <td>Good</td>\n",
       "      <td>1056.56</td>\n",
       "      <td>32.102334</td>\n",
       "      <td>16 Years and 1 Months</td>\n",
       "      <td>No</td>\n",
       "      <td>0.000000</td>\n",
       "      <td>200.4516559293186</td>\n",
       "      <td>High_spent_Small_value_payments</td>\n",
       "      <td>395.93809407068136</td>\n",
       "      <td>Standard</td>\n",
       "    </tr>\n",
       "    <tr>\n",
       "      <th>49163</th>\n",
       "      <td>0x13611</td>\n",
       "      <td>CUS_0x6915</td>\n",
       "      <td>April</td>\n",
       "      <td>Lashb</td>\n",
       "      <td>17</td>\n",
       "      <td>533-80-5681</td>\n",
       "      <td>Musician</td>\n",
       "      <td>15862.01</td>\n",
       "      <td>1404.834167</td>\n",
       "      <td>10</td>\n",
       "      <td>6</td>\n",
       "      <td>31</td>\n",
       "      <td>6</td>\n",
       "      <td>Payday Loan, Credit-Builder Loan, Home Equity ...</td>\n",
       "      <td>24</td>\n",
       "      <td>22</td>\n",
       "      <td>24.42</td>\n",
       "      <td>13.0</td>\n",
       "      <td>Bad</td>\n",
       "      <td>4063.06</td>\n",
       "      <td>38.980802</td>\n",
       "      <td>9 Years and 6 Months</td>\n",
       "      <td>Yes</td>\n",
       "      <td>66.782933</td>\n",
       "      <td>54.77775219113883</td>\n",
       "      <td>Low_spent_Medium_value_payments</td>\n",
       "      <td>298.9227315826596</td>\n",
       "      <td>Standard</td>\n",
       "    </tr>\n",
       "  </tbody>\n",
       "</table>\n",
       "</div>"
      ],
      "text/plain": [
       "            ID Customer_ID    Month                    Name Age          SSN  \\\n",
       "83986  0x2021c  CUS_0xaea7    March                   Marku  15  899-86-9384   \n",
       "11146   0x5750  CUS_0x3513    March                     NaN  30  407-97-5354   \n",
       "33573   0xdab7  CUS_0x7ad8     June                   illyo  25  614-62-5951   \n",
       "15458   0x7094  CUS_0x8927    March              Oreskovicw  28  184-06-0856   \n",
       "21112   0x91b6  CUS_0x6aec  January             Matt Dailyf  35  511-89-0913   \n",
       "48621  0x132e3  CUS_0x2bf6     June           Jed Horowitzt  38  087-74-0376   \n",
       "89620  0x2231e  CUS_0x6cf6      May                  Alwynt  43    #F%$D@*&8   \n",
       "13763   0x66a5  CUS_0x1009    April                  Arunah  26  063-67-6938   \n",
       "45430  0x12030  CUS_0x7955     July  Caroline Valetkevitchr  33  294-52-2292   \n",
       "49163  0x13611  CUS_0x6915    April                   Lashb  17  533-80-5681   \n",
       "\n",
       "          Occupation Annual_Income  Monthly_Inhand_Salary  Num_Bank_Accounts  \\\n",
       "83986   Entrepreneur      80669.44            6502.453333                  8   \n",
       "11146     Accountant      83037.36            6663.780000                  8   \n",
       "33573     Accountant       8079.46             423.288333                  7   \n",
       "15458  Media_Manager      29758.46            2687.871667                  5   \n",
       "21112     Journalist       9290.25             478.187500                  6   \n",
       "48621      Scientist      59319.42            4760.285000                  5   \n",
       "89620       Musician    105774.57_            8540.547500                  5   \n",
       "13763       Mechanic      52312.68            4250.390000                  6   \n",
       "45430   Entrepreneur      42250.77            3363.897500                  0   \n",
       "49163       Musician      15862.01            1404.834167                 10   \n",
       "\n",
       "       Num_Credit_Card  Interest_Rate Num_of_Loan  \\\n",
       "83986                8             29           5   \n",
       "11146                9             19           6   \n",
       "33573                7             23           5   \n",
       "15458                6              8           3   \n",
       "21112                7             32           9   \n",
       "48621                4             13           5   \n",
       "89620                5             16           2   \n",
       "13763                5             17        1094   \n",
       "45430                4              3           0   \n",
       "49163                6             31           6   \n",
       "\n",
       "                                            Type_of_Loan  Delay_from_due_date  \\\n",
       "83986  Home Equity Loan, Payday Loan, Credit-Builder ...                   46   \n",
       "11146  Debt Consolidation Loan, Auto Loan, Not Specif...                   23   \n",
       "33573  Mortgage Loan, Mortgage Loan, Auto Loan, Stude...                   24   \n",
       "15458    Student Loan, Home Equity Loan, and Payday Loan                   28   \n",
       "21112  Home Equity Loan, Home Equity Loan, Payday Loa...                   24   \n",
       "48621  Payday Loan, Auto Loan, Not Specified, Mortgag...                   25   \n",
       "89620                         Auto Loan, and Payday Loan                   25   \n",
       "13763  Not Specified, Home Equity Loan, Credit-Builde...                   10   \n",
       "45430                                                NaN                   14   \n",
       "49163  Payday Loan, Credit-Builder Loan, Home Equity ...                   24   \n",
       "\n",
       "      Num_of_Delayed_Payment Changed_Credit_Limit  Num_Credit_Inquiries  \\\n",
       "83986                     23                24.55                  12.0   \n",
       "11146                     18                 7.46                   9.0   \n",
       "33573                     13                13.76                  13.0   \n",
       "15458                    17_                10.79                   4.0   \n",
       "21112                     19                 9.28                   8.0   \n",
       "48621                     12                 9.58                   7.0   \n",
       "89620                     12                15.38                 159.0   \n",
       "13763                     18                 9.73                   2.0   \n",
       "45430                      3                 9.69                   0.0   \n",
       "49163                     22                24.42                  13.0   \n",
       "\n",
       "      Credit_Mix Outstanding_Debt  Credit_Utilization_Ratio  \\\n",
       "83986        Bad          3461.24                 26.487737   \n",
       "11146   Standard          1446.74                 37.991309   \n",
       "33573   Standard          1515.52                 35.277260   \n",
       "15458          _           817.45                 31.274861   \n",
       "21112        Bad          1633.87                 27.546218   \n",
       "48621   Standard          2569.72                 23.025379   \n",
       "89620   Standard           582.13                 27.090660   \n",
       "13763          _          202.68_                 24.996239   \n",
       "45430       Good          1056.56                 32.102334   \n",
       "49163        Bad          4063.06                 38.980802   \n",
       "\n",
       "           Credit_History_Age Payment_of_Min_Amount  Total_EMI_per_month  \\\n",
       "83986   13 Years and 9 Months                   Yes           190.429435   \n",
       "11146   8 Years and 10 Months                   Yes           263.270240   \n",
       "33573   13 Years and 7 Months                   Yes            25.585426   \n",
       "15458  26 Years and 10 Months                    No            71.506030   \n",
       "21112   14 Years and 5 Months                   Yes            40.856737   \n",
       "48621    5 Years and 9 Months                   Yes           207.849623   \n",
       "89620                     NaN                   Yes           148.655532   \n",
       "13763                     NaN                   Yes           108.366467   \n",
       "45430   16 Years and 1 Months                    No             0.000000   \n",
       "49163    9 Years and 6 Months                   Yes            66.782933   \n",
       "\n",
       "      Amount_invested_monthly                 Payment_Behaviour  \\\n",
       "83986       683.5154516568979    Low_spent_Small_value_payments   \n",
       "11146               __10000__  High_spent_Medium_value_payments   \n",
       "33573       41.84261163243214    Low_spent_Small_value_payments   \n",
       "15458      140.15230165146866    Low_spent_Small_value_payments   \n",
       "21112                     NaN    Low_spent_Small_value_payments   \n",
       "48621      165.29048098112247  High_spent_Medium_value_payments   \n",
       "89620       478.5020102286361   Low_spent_Medium_value_payments   \n",
       "13763       171.4504427290597   High_spent_Small_value_payments   \n",
       "45430       200.4516559293186   High_spent_Small_value_payments   \n",
       "49163       54.77775219113883   Low_spent_Medium_value_payments   \n",
       "\n",
       "          Monthly_Balance Credit_Score  \n",
       "83986   66.30044669618576         Poor  \n",
       "11146   429.0965736200333         Poor  \n",
       "33573  264.90079535402754         Poor  \n",
       "15458  347.12883484323896     Standard  \n",
       "21112   256.6390337154511         Poor  \n",
       "48621   352.8883964439985     Standard  \n",
       "89620  506.89720806195197     Standard  \n",
       "13763  405.22209014568483     Standard  \n",
       "45430  395.93809407068136     Standard  \n",
       "49163   298.9227315826596     Standard  "
      ]
     },
     "execution_count": 77,
     "metadata": {},
     "output_type": "execute_result"
    }
   ],
   "source": [
    "df.sample(10)"
   ]
  },
  {
   "cell_type": "code",
   "execution_count": 78,
   "id": "37091f6f",
   "metadata": {
    "ExecuteTime": {
     "end_time": "2022-09-12T10:24:41.485948Z",
     "start_time": "2022-09-12T10:24:41.471856Z"
    }
   },
   "outputs": [
    {
     "data": {
      "text/plain": [
       "(100000, 28)"
      ]
     },
     "execution_count": 78,
     "metadata": {},
     "output_type": "execute_result"
    }
   ],
   "source": [
    "df.shape"
   ]
  },
  {
   "cell_type": "markdown",
   "id": "78daa783",
   "metadata": {},
   "source": [
    "### Checking the summary information of df"
   ]
  },
  {
   "cell_type": "code",
   "execution_count": 79,
   "id": "1b1a38de",
   "metadata": {
    "ExecuteTime": {
     "end_time": "2022-09-12T10:24:41.708288Z",
     "start_time": "2022-09-12T10:24:41.487855Z"
    }
   },
   "outputs": [
    {
     "name": "stdout",
     "output_type": "stream",
     "text": [
      "<class 'pandas.core.frame.DataFrame'>\n",
      "RangeIndex: 100000 entries, 0 to 99999\n",
      "Data columns (total 28 columns):\n",
      " #   Column                    Non-Null Count   Dtype  \n",
      "---  ------                    --------------   -----  \n",
      " 0   ID                        100000 non-null  object \n",
      " 1   Customer_ID               100000 non-null  object \n",
      " 2   Month                     100000 non-null  object \n",
      " 3   Name                      90015 non-null   object \n",
      " 4   Age                       100000 non-null  object \n",
      " 5   SSN                       100000 non-null  object \n",
      " 6   Occupation                100000 non-null  object \n",
      " 7   Annual_Income             100000 non-null  object \n",
      " 8   Monthly_Inhand_Salary     84998 non-null   float64\n",
      " 9   Num_Bank_Accounts         100000 non-null  int64  \n",
      " 10  Num_Credit_Card           100000 non-null  int64  \n",
      " 11  Interest_Rate             100000 non-null  int64  \n",
      " 12  Num_of_Loan               100000 non-null  object \n",
      " 13  Type_of_Loan              88592 non-null   object \n",
      " 14  Delay_from_due_date       100000 non-null  int64  \n",
      " 15  Num_of_Delayed_Payment    92998 non-null   object \n",
      " 16  Changed_Credit_Limit      100000 non-null  object \n",
      " 17  Num_Credit_Inquiries      98035 non-null   float64\n",
      " 18  Credit_Mix                100000 non-null  object \n",
      " 19  Outstanding_Debt          100000 non-null  object \n",
      " 20  Credit_Utilization_Ratio  100000 non-null  float64\n",
      " 21  Credit_History_Age        90970 non-null   object \n",
      " 22  Payment_of_Min_Amount     100000 non-null  object \n",
      " 23  Total_EMI_per_month       100000 non-null  float64\n",
      " 24  Amount_invested_monthly   95521 non-null   object \n",
      " 25  Payment_Behaviour         100000 non-null  object \n",
      " 26  Monthly_Balance           98800 non-null   object \n",
      " 27  Credit_Score              100000 non-null  object \n",
      "dtypes: float64(4), int64(4), object(20)\n",
      "memory usage: 21.4+ MB\n"
     ]
    }
   ],
   "source": [
    "df.info()"
   ]
  },
  {
   "cell_type": "code",
   "execution_count": 80,
   "id": "55eea8d6",
   "metadata": {
    "ExecuteTime": {
     "end_time": "2022-09-12T10:24:41.912182Z",
     "start_time": "2022-09-12T10:24:41.710181Z"
    }
   },
   "outputs": [
    {
     "data": {
      "text/plain": [
       "ID                              0\n",
       "Customer_ID                     0\n",
       "Month                           0\n",
       "Name                         9985\n",
       "Age                             0\n",
       "SSN                             0\n",
       "Occupation                      0\n",
       "Annual_Income                   0\n",
       "Monthly_Inhand_Salary       15002\n",
       "Num_Bank_Accounts               0\n",
       "Num_Credit_Card                 0\n",
       "Interest_Rate                   0\n",
       "Num_of_Loan                     0\n",
       "Type_of_Loan                11408\n",
       "Delay_from_due_date             0\n",
       "Num_of_Delayed_Payment       7002\n",
       "Changed_Credit_Limit            0\n",
       "Num_Credit_Inquiries         1965\n",
       "Credit_Mix                      0\n",
       "Outstanding_Debt                0\n",
       "Credit_Utilization_Ratio        0\n",
       "Credit_History_Age           9030\n",
       "Payment_of_Min_Amount           0\n",
       "Total_EMI_per_month             0\n",
       "Amount_invested_monthly      4479\n",
       "Payment_Behaviour               0\n",
       "Monthly_Balance              1200\n",
       "Credit_Score                    0\n",
       "dtype: int64"
      ]
     },
     "execution_count": 80,
     "metadata": {},
     "output_type": "execute_result"
    }
   ],
   "source": [
    "# Checking the null values of df\n",
    "\n",
    "df.isnull().sum()"
   ]
  },
  {
   "cell_type": "code",
   "execution_count": 81,
   "id": "cbac55df",
   "metadata": {
    "ExecuteTime": {
     "end_time": "2022-09-12T10:24:42.132795Z",
     "start_time": "2022-09-12T10:24:41.914182Z"
    }
   },
   "outputs": [
    {
     "data": {
      "text/plain": [
       "0"
      ]
     },
     "execution_count": 81,
     "metadata": {},
     "output_type": "execute_result"
    }
   ],
   "source": [
    "# Checking the duplicated values in df\n",
    "\n",
    "df.duplicated().sum()"
   ]
  },
  {
   "cell_type": "code",
   "execution_count": 82,
   "id": "8f1dd6d6",
   "metadata": {
    "ExecuteTime": {
     "end_time": "2022-09-12T10:24:42.274771Z",
     "start_time": "2022-09-12T10:24:42.135746Z"
    }
   },
   "outputs": [
    {
     "data": {
      "text/plain": [
       "ID                          100000\n",
       "Customer_ID                  12500\n",
       "Month                            8\n",
       "Name                         10139\n",
       "Age                           1788\n",
       "SSN                          12501\n",
       "Occupation                      16\n",
       "Annual_Income                18940\n",
       "Monthly_Inhand_Salary        13235\n",
       "Num_Bank_Accounts              943\n",
       "Num_Credit_Card               1179\n",
       "Interest_Rate                 1750\n",
       "Num_of_Loan                    434\n",
       "Type_of_Loan                  6260\n",
       "Delay_from_due_date             73\n",
       "Num_of_Delayed_Payment         749\n",
       "Changed_Credit_Limit          4384\n",
       "Num_Credit_Inquiries          1223\n",
       "Credit_Mix                       4\n",
       "Outstanding_Debt             13178\n",
       "Credit_Utilization_Ratio    100000\n",
       "Credit_History_Age             404\n",
       "Payment_of_Min_Amount            3\n",
       "Total_EMI_per_month          14950\n",
       "Amount_invested_monthly      91049\n",
       "Payment_Behaviour                7\n",
       "Monthly_Balance              98792\n",
       "Credit_Score                     3\n",
       "dtype: int64"
      ]
     },
     "execution_count": 82,
     "metadata": {},
     "output_type": "execute_result"
    }
   ],
   "source": [
    "# Checking the number of uniques in df\n",
    "\n",
    "df.nunique()"
   ]
  },
  {
   "cell_type": "code",
   "execution_count": 83,
   "id": "9c7e0c9a",
   "metadata": {
    "ExecuteTime": {
     "end_time": "2022-09-12T10:24:42.320901Z",
     "start_time": "2022-09-12T10:24:42.276655Z"
    }
   },
   "outputs": [
    {
     "data": {
      "text/html": [
       "<div>\n",
       "<style scoped>\n",
       "    .dataframe tbody tr th:only-of-type {\n",
       "        vertical-align: middle;\n",
       "    }\n",
       "\n",
       "    .dataframe tbody tr th {\n",
       "        vertical-align: top;\n",
       "    }\n",
       "\n",
       "    .dataframe thead th {\n",
       "        text-align: right;\n",
       "    }\n",
       "</style>\n",
       "<table border=\"1\" class=\"dataframe\">\n",
       "  <thead>\n",
       "    <tr style=\"text-align: right;\">\n",
       "      <th></th>\n",
       "      <th>Monthly_Inhand_Salary</th>\n",
       "      <th>Num_Bank_Accounts</th>\n",
       "      <th>Num_Credit_Card</th>\n",
       "      <th>Interest_Rate</th>\n",
       "      <th>Delay_from_due_date</th>\n",
       "      <th>Num_Credit_Inquiries</th>\n",
       "      <th>Credit_Utilization_Ratio</th>\n",
       "      <th>Total_EMI_per_month</th>\n",
       "    </tr>\n",
       "  </thead>\n",
       "  <tbody>\n",
       "    <tr>\n",
       "      <th>count</th>\n",
       "      <td>84998.000000</td>\n",
       "      <td>100000.000000</td>\n",
       "      <td>100000.00000</td>\n",
       "      <td>100000.000000</td>\n",
       "      <td>100000.000000</td>\n",
       "      <td>98035.000000</td>\n",
       "      <td>100000.000000</td>\n",
       "      <td>100000.000000</td>\n",
       "    </tr>\n",
       "    <tr>\n",
       "      <th>mean</th>\n",
       "      <td>4194.170850</td>\n",
       "      <td>17.091280</td>\n",
       "      <td>22.47443</td>\n",
       "      <td>72.466040</td>\n",
       "      <td>21.068780</td>\n",
       "      <td>27.754251</td>\n",
       "      <td>32.285173</td>\n",
       "      <td>1403.118217</td>\n",
       "    </tr>\n",
       "    <tr>\n",
       "      <th>std</th>\n",
       "      <td>3183.686167</td>\n",
       "      <td>117.404834</td>\n",
       "      <td>129.05741</td>\n",
       "      <td>466.422621</td>\n",
       "      <td>14.860104</td>\n",
       "      <td>193.177339</td>\n",
       "      <td>5.116875</td>\n",
       "      <td>8306.041270</td>\n",
       "    </tr>\n",
       "    <tr>\n",
       "      <th>min</th>\n",
       "      <td>303.645417</td>\n",
       "      <td>-1.000000</td>\n",
       "      <td>0.00000</td>\n",
       "      <td>1.000000</td>\n",
       "      <td>-5.000000</td>\n",
       "      <td>0.000000</td>\n",
       "      <td>20.000000</td>\n",
       "      <td>0.000000</td>\n",
       "    </tr>\n",
       "    <tr>\n",
       "      <th>25%</th>\n",
       "      <td>1625.568229</td>\n",
       "      <td>3.000000</td>\n",
       "      <td>4.00000</td>\n",
       "      <td>8.000000</td>\n",
       "      <td>10.000000</td>\n",
       "      <td>3.000000</td>\n",
       "      <td>28.052567</td>\n",
       "      <td>30.306660</td>\n",
       "    </tr>\n",
       "    <tr>\n",
       "      <th>50%</th>\n",
       "      <td>3093.745000</td>\n",
       "      <td>6.000000</td>\n",
       "      <td>5.00000</td>\n",
       "      <td>13.000000</td>\n",
       "      <td>18.000000</td>\n",
       "      <td>6.000000</td>\n",
       "      <td>32.305784</td>\n",
       "      <td>69.249473</td>\n",
       "    </tr>\n",
       "    <tr>\n",
       "      <th>75%</th>\n",
       "      <td>5957.448333</td>\n",
       "      <td>7.000000</td>\n",
       "      <td>7.00000</td>\n",
       "      <td>20.000000</td>\n",
       "      <td>28.000000</td>\n",
       "      <td>9.000000</td>\n",
       "      <td>36.496663</td>\n",
       "      <td>161.224249</td>\n",
       "    </tr>\n",
       "    <tr>\n",
       "      <th>max</th>\n",
       "      <td>15204.633333</td>\n",
       "      <td>1798.000000</td>\n",
       "      <td>1499.00000</td>\n",
       "      <td>5797.000000</td>\n",
       "      <td>67.000000</td>\n",
       "      <td>2597.000000</td>\n",
       "      <td>50.000000</td>\n",
       "      <td>82331.000000</td>\n",
       "    </tr>\n",
       "  </tbody>\n",
       "</table>\n",
       "</div>"
      ],
      "text/plain": [
       "       Monthly_Inhand_Salary  Num_Bank_Accounts  Num_Credit_Card  \\\n",
       "count           84998.000000      100000.000000     100000.00000   \n",
       "mean             4194.170850          17.091280         22.47443   \n",
       "std              3183.686167         117.404834        129.05741   \n",
       "min               303.645417          -1.000000          0.00000   \n",
       "25%              1625.568229           3.000000          4.00000   \n",
       "50%              3093.745000           6.000000          5.00000   \n",
       "75%              5957.448333           7.000000          7.00000   \n",
       "max             15204.633333        1798.000000       1499.00000   \n",
       "\n",
       "       Interest_Rate  Delay_from_due_date  Num_Credit_Inquiries  \\\n",
       "count  100000.000000        100000.000000          98035.000000   \n",
       "mean       72.466040            21.068780             27.754251   \n",
       "std       466.422621            14.860104            193.177339   \n",
       "min         1.000000            -5.000000              0.000000   \n",
       "25%         8.000000            10.000000              3.000000   \n",
       "50%        13.000000            18.000000              6.000000   \n",
       "75%        20.000000            28.000000              9.000000   \n",
       "max      5797.000000            67.000000           2597.000000   \n",
       "\n",
       "       Credit_Utilization_Ratio  Total_EMI_per_month  \n",
       "count             100000.000000        100000.000000  \n",
       "mean                  32.285173          1403.118217  \n",
       "std                    5.116875          8306.041270  \n",
       "min                   20.000000             0.000000  \n",
       "25%                   28.052567            30.306660  \n",
       "50%                   32.305784            69.249473  \n",
       "75%                   36.496663           161.224249  \n",
       "max                   50.000000         82331.000000  "
      ]
     },
     "execution_count": 83,
     "metadata": {},
     "output_type": "execute_result"
    }
   ],
   "source": [
    "# Checking the desciptive values in df\n",
    "\n",
    "df.describe()"
   ]
  },
  {
   "cell_type": "markdown",
   "id": "15f5f6e9",
   "metadata": {},
   "source": [
    "## <p style=\"background-color:#7da6ff; font-family:arial; color:#09042b; font-size:175%; text-align:center; border-radius:10px; line-height:1.2\">Cleaning Data</p>\n",
    "\n",
    "<a id=\"4\"></a>\n",
    "<a href=\"#toc\" class=\"btn btn-primary btn-sm\" role=\"button\" aria-pressed=\"true\" \n",
    "style=\"color:#09042b; background-color:#7da6ff\" data-toggle=\"popover\">Content</a>\n",
    "\n",
    "There are so many strange values that should be cleaned or replaced with np.nan"
   ]
  },
  {
   "cell_type": "code",
   "execution_count": 84,
   "id": "e6e60a14",
   "metadata": {
    "ExecuteTime": {
     "end_time": "2022-09-12T10:24:42.796583Z",
     "start_time": "2022-09-12T10:24:42.783584Z"
    }
   },
   "outputs": [],
   "source": [
    "# defining a function to replace \"_\", \"_______\", \"#F%$D@*&8\", \"!@9#%8\", \"__-333333333333333333333333333__\" with np.nan\n",
    "\n",
    "def clean_data(row) :\n",
    "    if row in [\"_\", \"_______\", \"#F%$D@*&8\", \"!@9#%8\", \"__-333333333333333333333333333__\"]:\n",
    "        return np.nan\n",
    "    else :\n",
    "        return row"
   ]
  },
  {
   "cell_type": "code",
   "execution_count": 85,
   "id": "ecb500cd",
   "metadata": {
    "ExecuteTime": {
     "end_time": "2022-09-12T10:24:43.476686Z",
     "start_time": "2022-09-12T10:24:42.798583Z"
    }
   },
   "outputs": [],
   "source": [
    "# replacing the strange values with np.nan using clean_data function\n",
    "\n",
    "for col in df.columns :\n",
    "    df[col] = df[col].apply(clean_data)"
   ]
  },
  {
   "cell_type": "code",
   "execution_count": 86,
   "id": "11af0063",
   "metadata": {
    "ExecuteTime": {
     "end_time": "2022-09-12T10:24:44.266083Z",
     "start_time": "2022-09-12T10:24:43.479586Z"
    }
   },
   "outputs": [],
   "source": [
    "# Strip \"_\" character at the begin and end of df features\n",
    "\n",
    "for col in df.columns :\n",
    "    if df[col].dtype == \"O\" :\n",
    "        if df[col].str.contains(\"_\").sum() > 0:\n",
    "            df[col] = df[col].str.strip(\"_\")"
   ]
  },
  {
   "cell_type": "code",
   "execution_count": 87,
   "id": "47de686d",
   "metadata": {
    "ExecuteTime": {
     "end_time": "2022-09-12T10:24:44.377978Z",
     "start_time": "2022-09-12T10:24:44.266979Z"
    }
   },
   "outputs": [],
   "source": [
    "# Convert ID and Customer_ID numbers which were given as hexadecimal to decimal\n",
    "\n",
    "df[\"ID\"] = df.ID.apply(lambda x : int(x, 16))\n",
    "df[\"Customer_ID\"] = df.Customer_ID.str.strip(\"CUS_\").apply(lambda x : int(x, 16))"
   ]
  },
  {
   "cell_type": "markdown",
   "id": "a6746b18",
   "metadata": {},
   "source": [
    "### Fixing Data Type"
   ]
  },
  {
   "cell_type": "code",
   "execution_count": 88,
   "id": "15e7e9b6",
   "metadata": {
    "ExecuteTime": {
     "end_time": "2022-09-12T10:24:44.785964Z",
     "start_time": "2022-09-12T10:24:44.770961Z"
    }
   },
   "outputs": [],
   "source": [
    "# defining column lists whose data types should be fixed to integer and float\n",
    "\n",
    "col_int = [\"ID\", \"Customer_ID\", \"Age\", \"Num_Bank_Accounts\", \"Num_Credit_Card\", \"Num_of_Loan\", \"Delay_from_due_date\"]\n",
    "\n",
    "col_float = [\"Num_of_Delayed_Payment\", \"Annual_Income\", \"Interest_Rate\", \"Changed_Credit_Limit\",\"Outstanding_Debt\",\\\n",
    "             \"Amount_invested_monthly\",\"Monthly_Balance\"]"
   ]
  },
  {
   "cell_type": "code",
   "execution_count": 89,
   "id": "e6e77071",
   "metadata": {
    "ExecuteTime": {
     "end_time": "2022-09-12T10:24:44.816973Z",
     "start_time": "2022-09-12T10:24:44.787960Z"
    }
   },
   "outputs": [],
   "source": [
    "# fixing data types to integer\n",
    "for col in col_int :\n",
    "    df[col] = df[col].astype(int)"
   ]
  },
  {
   "cell_type": "code",
   "execution_count": 90,
   "id": "c63d15de",
   "metadata": {
    "ExecuteTime": {
     "end_time": "2022-09-12T10:24:44.927174Z",
     "start_time": "2022-09-12T10:24:44.818961Z"
    }
   },
   "outputs": [],
   "source": [
    "# fixing data types to float\n",
    "for col in col_float :\n",
    "    df[col] = df[col].astype(float)"
   ]
  },
  {
   "cell_type": "code",
   "execution_count": 91,
   "id": "9b36e5be",
   "metadata": {
    "ExecuteTime": {
     "end_time": "2022-09-12T10:24:45.039377Z",
     "start_time": "2022-09-12T10:24:44.929162Z"
    }
   },
   "outputs": [
    {
     "name": "stdout",
     "output_type": "stream",
     "text": [
      "<class 'pandas.core.frame.DataFrame'>\n",
      "RangeIndex: 100000 entries, 0 to 99999\n",
      "Data columns (total 28 columns):\n",
      " #   Column                    Non-Null Count   Dtype  \n",
      "---  ------                    --------------   -----  \n",
      " 0   ID                        100000 non-null  int32  \n",
      " 1   Customer_ID               100000 non-null  int32  \n",
      " 2   Month                     100000 non-null  object \n",
      " 3   Name                      90015 non-null   object \n",
      " 4   Age                       100000 non-null  int32  \n",
      " 5   SSN                       94428 non-null   object \n",
      " 6   Occupation                92938 non-null   object \n",
      " 7   Annual_Income             100000 non-null  float64\n",
      " 8   Monthly_Inhand_Salary     84998 non-null   float64\n",
      " 9   Num_Bank_Accounts         100000 non-null  int32  \n",
      " 10  Num_Credit_Card           100000 non-null  int32  \n",
      " 11  Interest_Rate             100000 non-null  float64\n",
      " 12  Num_of_Loan               100000 non-null  int32  \n",
      " 13  Type_of_Loan              88592 non-null   object \n",
      " 14  Delay_from_due_date       100000 non-null  int32  \n",
      " 15  Num_of_Delayed_Payment    92998 non-null   float64\n",
      " 16  Changed_Credit_Limit      97909 non-null   float64\n",
      " 17  Num_Credit_Inquiries      98035 non-null   float64\n",
      " 18  Credit_Mix                79805 non-null   object \n",
      " 19  Outstanding_Debt          100000 non-null  float64\n",
      " 20  Credit_Utilization_Ratio  100000 non-null  float64\n",
      " 21  Credit_History_Age        90970 non-null   object \n",
      " 22  Payment_of_Min_Amount     100000 non-null  object \n",
      " 23  Total_EMI_per_month       100000 non-null  float64\n",
      " 24  Amount_invested_monthly   95521 non-null   float64\n",
      " 25  Payment_Behaviour         92400 non-null   object \n",
      " 26  Monthly_Balance           98791 non-null   float64\n",
      " 27  Credit_Score              100000 non-null  object \n",
      "dtypes: float64(11), int32(7), object(10)\n",
      "memory usage: 18.7+ MB\n"
     ]
    }
   ],
   "source": [
    "# checking the data types\n",
    "df.info()"
   ]
  },
  {
   "cell_type": "markdown",
   "id": "445d952c",
   "metadata": {},
   "source": [
    "## <p style=\"background-color:#7da6ff; font-family:arial; color:#09042b; font-size:175%; text-align:center; border-radius:10px 10px;\">Handling With Missing Values</p>\n",
    "\n",
    "<a id=\"5\"></a>\n",
    "<a href=\"#toc\" class=\"btn btn-primary btn-sm\" role=\"button\" aria-pressed=\"true\" \n",
    "style=\"color:#09042b; background-color:#7da6ff\" data-toggle=\"popover\">Content</a>"
   ]
  },
  {
   "cell_type": "markdown",
   "id": "5db19a14",
   "metadata": {},
   "source": [
    "### Defining a function for null check"
   ]
  },
  {
   "cell_type": "code",
   "execution_count": 92,
   "id": "cd4343bd",
   "metadata": {
    "ExecuteTime": {
     "end_time": "2022-09-12T10:24:45.055205Z",
     "start_time": "2022-09-12T10:24:45.042199Z"
    }
   },
   "outputs": [],
   "source": [
    "def null_check (col) :\n",
    "    print(\"Column name :\", col)\n",
    "    print(\"--\"*16)\n",
    "    print(\"Number of nulls :\", df[col].isnull().sum())\n",
    "    print(\"Percent of nulls :\", '%', round((df[col].isnull().sum()/df.shape[0])*100, 2))\n",
    "    print(\"Value_counts :\", \"\\n\",df[col].value_counts(dropna=False).head(10))  # brings only first 10 value"
   ]
  },
  {
   "cell_type": "markdown",
   "id": "9c303db7",
   "metadata": {},
   "source": [
    "* There are 13 columns having null values in df.\n",
    "* Now let's work on this null values column by column."
   ]
  },
  {
   "cell_type": "markdown",
   "id": "7509b1c6",
   "metadata": {},
   "source": [
    "### Name column"
   ]
  },
  {
   "cell_type": "code",
   "execution_count": 93,
   "id": "b72dc009",
   "metadata": {
    "ExecuteTime": {
     "end_time": "2022-09-12T10:24:45.086213Z",
     "start_time": "2022-09-12T10:24:45.056204Z"
    }
   },
   "outputs": [
    {
     "name": "stdout",
     "output_type": "stream",
     "text": [
      "Column name : Name\n",
      "--------------------------------\n",
      "Number of nulls : 9985\n",
      "Percent of nulls : % 9.98\n",
      "Value_counts : \n",
      " NaN                   9985\n",
      "Stevex                  44\n",
      "Langep                  44\n",
      "Jessicad                39\n",
      "Vaughanl                39\n",
      "Deepa Seetharamanm      38\n",
      "Danielz                 38\n",
      "Jessica Wohlt           38\n",
      "Raymondr                38\n",
      "Strupczewskid           37\n",
      "Name: Name, dtype: int64\n"
     ]
    }
   ],
   "source": [
    "# Checking the null values in Name column\n",
    "\n",
    "null_check(\"Name\")"
   ]
  },
  {
   "cell_type": "code",
   "execution_count": 94,
   "id": "f6d124b0",
   "metadata": {
    "ExecuteTime": {
     "end_time": "2022-09-12T10:24:46.478276Z",
     "start_time": "2022-09-12T10:24:45.089196Z"
    }
   },
   "outputs": [],
   "source": [
    "# When we grouped the data by Customer_ID, we can see that the null values in Name column can be filled with ffill and bfill method.\n",
    "\n",
    "df[\"Name\"] = df.groupby(\"Customer_ID\")[\"Name\"].fillna(method='ffill').fillna(method='bfill')"
   ]
  },
  {
   "cell_type": "markdown",
   "id": "416367ce",
   "metadata": {},
   "source": [
    "### SSN column"
   ]
  },
  {
   "cell_type": "code",
   "execution_count": 95,
   "id": "7f494370",
   "metadata": {
    "ExecuteTime": {
     "end_time": "2022-09-12T10:24:46.525637Z",
     "start_time": "2022-09-12T10:24:46.496157Z"
    }
   },
   "outputs": [
    {
     "name": "stdout",
     "output_type": "stream",
     "text": [
      "Column name : SSN\n",
      "--------------------------------\n",
      "Number of nulls : 5572\n",
      "Percent of nulls : % 5.57\n",
      "Value_counts : \n",
      " NaN            5572\n",
      "078-73-5990       8\n",
      "486-78-3816       8\n",
      "750-67-7525       8\n",
      "903-50-0305       8\n",
      "376-28-6303       8\n",
      "194-93-5515       8\n",
      "442-30-8588       8\n",
      "362-78-8068       8\n",
      "221-76-9774       8\n",
      "Name: SSN, dtype: int64\n"
     ]
    }
   ],
   "source": [
    "# Checking the null values in SSN column\n",
    "\n",
    "null_check(\"SSN\")"
   ]
  },
  {
   "cell_type": "code",
   "execution_count": 96,
   "id": "ee73585a",
   "metadata": {
    "ExecuteTime": {
     "end_time": "2022-09-12T10:24:47.854382Z",
     "start_time": "2022-09-12T10:24:46.529649Z"
    }
   },
   "outputs": [],
   "source": [
    "# Null values in SSN column can be filled with ffill and bfill method like in Name column.\n",
    "\n",
    "df[\"SSN\"] = df.groupby(\"Customer_ID\")[\"SSN\"].fillna(method=\"ffill\").fillna(method=\"bfill\")"
   ]
  },
  {
   "cell_type": "markdown",
   "id": "a0267e45",
   "metadata": {},
   "source": [
    "### Occupation column"
   ]
  },
  {
   "cell_type": "code",
   "execution_count": 97,
   "id": "fc021ede",
   "metadata": {
    "ExecuteTime": {
     "end_time": "2022-09-12T10:24:47.899787Z",
     "start_time": "2022-09-12T10:24:47.871308Z"
    }
   },
   "outputs": [
    {
     "name": "stdout",
     "output_type": "stream",
     "text": [
      "Column name : Occupation\n",
      "--------------------------------\n",
      "Number of nulls : 7062\n",
      "Percent of nulls : % 7.06\n",
      "Value_counts : \n",
      " NaN              7062\n",
      "Lawyer           6575\n",
      "Architect        6355\n",
      "Engineer         6350\n",
      "Scientist        6299\n",
      "Mechanic         6291\n",
      "Accountant       6271\n",
      "Developer        6235\n",
      "Media_Manager    6232\n",
      "Teacher          6215\n",
      "Name: Occupation, dtype: int64\n"
     ]
    }
   ],
   "source": [
    "# Checking the null values in Occupation column\n",
    "\n",
    "null_check(\"Occupation\")"
   ]
  },
  {
   "cell_type": "code",
   "execution_count": 98,
   "id": "e6f3738f",
   "metadata": {
    "ExecuteTime": {
     "end_time": "2022-09-12T10:24:49.227881Z",
     "start_time": "2022-09-12T10:24:47.901791Z"
    }
   },
   "outputs": [],
   "source": [
    "# Null values in Occupation column can be filled with ffill and bfill method like in Name column.\n",
    "\n",
    "df[\"Occupation\"] = df.groupby(\"Customer_ID\")[\"Occupation\"].fillna(method=\"ffill\").fillna(method=\"bfill\")"
   ]
  },
  {
   "cell_type": "markdown",
   "id": "30fac2b1",
   "metadata": {},
   "source": [
    "### Monthly_Inhand_Salary column"
   ]
  },
  {
   "cell_type": "code",
   "execution_count": 99,
   "id": "dfa404ed",
   "metadata": {
    "ExecuteTime": {
     "end_time": "2022-09-12T10:24:49.259217Z",
     "start_time": "2022-09-12T10:24:49.245214Z"
    }
   },
   "outputs": [
    {
     "name": "stdout",
     "output_type": "stream",
     "text": [
      "Column name : Monthly_Inhand_Salary\n",
      "--------------------------------\n",
      "Number of nulls : 15002\n",
      "Percent of nulls : % 15.0\n",
      "Value_counts : \n",
      " NaN            15002\n",
      "2295.058333       15\n",
      "6082.187500       15\n",
      "6769.130000       15\n",
      "6358.956667       15\n",
      "3080.555000       14\n",
      "4387.272500       13\n",
      "6639.560000       13\n",
      "5766.491667       13\n",
      "536.431250        12\n",
      "Name: Monthly_Inhand_Salary, dtype: int64\n"
     ]
    }
   ],
   "source": [
    "# Checking the null values in Monthly_Inhand_Salary column\n",
    "\n",
    "null_check(\"Monthly_Inhand_Salary\")"
   ]
  },
  {
   "cell_type": "code",
   "execution_count": 100,
   "id": "9d1d61e1",
   "metadata": {
    "ExecuteTime": {
     "end_time": "2022-09-12T10:24:49.306732Z",
     "start_time": "2022-09-12T10:24:49.261212Z"
    }
   },
   "outputs": [
    {
     "data": {
      "text/plain": [
       "Customer_ID  Monthly_Inhand_Salary\n",
       "1006         1331.348333              8\n",
       "1007         1496.742500              7\n",
       "             NaN                      1\n",
       "1008         2655.035833              8\n",
       "1009         6692.636667              8\n",
       "1011         8433.546667              7\n",
       "             NaN                      1\n",
       "1013         2684.892500              7\n",
       "             NaN                      1\n",
       "1014         5197.393333              5\n",
       "Name: Monthly_Inhand_Salary, dtype: int64"
      ]
     },
     "execution_count": 100,
     "metadata": {},
     "output_type": "execute_result"
    }
   ],
   "source": [
    "# Checking the null values in Monthly_Inhand_Salary column by grouping Customer_ID\n",
    "\n",
    "df.groupby(\"Customer_ID\").Monthly_Inhand_Salary.value_counts(dropna=False).head(10)"
   ]
  },
  {
   "cell_type": "code",
   "execution_count": 101,
   "id": "578f5fb4",
   "metadata": {
    "ExecuteTime": {
     "end_time": "2022-09-12T10:24:50.303258Z",
     "start_time": "2022-09-12T10:24:49.308733Z"
    }
   },
   "outputs": [],
   "source": [
    "# Null values in Monthly_Inhand_Salary column can be filled with ffill and bfill method like in Name column.\n",
    "    \n",
    "df[\"Monthly_Inhand_Salary\"] = df.groupby(\"Customer_ID\")[\"Monthly_Inhand_Salary\"].fillna(method=\"ffill\").fillna(method=\"bfill\")"
   ]
  },
  {
   "cell_type": "markdown",
   "id": "6a4f3091",
   "metadata": {
    "ExecuteTime": {
     "end_time": "2022-09-12T10:20:36.715685Z",
     "start_time": "2022-09-12T10:20:36.703610Z"
    }
   },
   "source": [
    "### Type_of_Loan column"
   ]
  },
  {
   "cell_type": "code",
   "execution_count": 102,
   "id": "794458e1",
   "metadata": {
    "ExecuteTime": {
     "end_time": "2022-09-12T10:24:53.387992Z",
     "start_time": "2022-09-12T10:24:53.371070Z"
    }
   },
   "outputs": [
    {
     "name": "stdout",
     "output_type": "stream",
     "text": [
      "Column name : Type_of_Loan\n",
      "--------------------------------\n",
      "Number of nulls : 11408\n",
      "Percent of nulls : % 11.41\n",
      "Value_counts : \n",
      " NaN                        11408\n",
      "Not Specified               1408\n",
      "Credit-Builder Loan         1280\n",
      "Personal Loan               1272\n",
      "Debt Consolidation Loan     1264\n",
      "Student Loan                1240\n",
      "Payday Loan                 1200\n",
      "Mortgage Loan               1176\n",
      "Auto Loan                   1152\n",
      "Home Equity Loan            1136\n",
      "Name: Type_of_Loan, dtype: int64\n"
     ]
    }
   ],
   "source": [
    "# Checking the null values in Type_of_Loan column\n",
    "\n",
    "null_check(\"Type_of_Loan\")"
   ]
  },
  {
   "cell_type": "code",
   "execution_count": 103,
   "id": "a9ef84c5",
   "metadata": {
    "ExecuteTime": {
     "end_time": "2022-09-12T10:24:54.817071Z",
     "start_time": "2022-09-12T10:24:54.778075Z"
    }
   },
   "outputs": [
    {
     "data": {
      "text/plain": [
       "Customer_ID  Type_of_Loan                                                                                                       \n",
       "1006         Credit-Builder Loan, and Payday Loan                                                                                   8\n",
       "1007         Home Equity Loan, Mortgage Loan, and Student Loan                                                                      8\n",
       "1008         NaN                                                                                                                    8\n",
       "1009         Credit-Builder Loan, Student Loan, Not Specified, and Student Loan                                                     8\n",
       "1011         Personal Loan, Auto Loan, and Auto Loan                                                                                8\n",
       "1013         Home Equity Loan, Mortgage Loan, Not Specified, and Personal Loan                                                      8\n",
       "1014         Payday Loan, Mortgage Loan, and Home Equity Loan                                                                       8\n",
       "1015         Personal Loan, Mortgage Loan, Not Specified, Auto Loan, Debt Consolidation Loan, Credit-Builder Loan, and Auto Loan    8\n",
       "1017         Debt Consolidation Loan, Personal Loan, and Auto Loan                                                                  8\n",
       "1019         Home Equity Loan                                                                                                       8\n",
       "Name: Type_of_Loan, dtype: int64"
      ]
     },
     "execution_count": 103,
     "metadata": {},
     "output_type": "execute_result"
    }
   ],
   "source": [
    "# Checking the null values in Type_of_Loan column by grouping Customer_ID\n",
    "\n",
    "df.groupby(\"Customer_ID\").Type_of_Loan.value_counts(dropna=False).head(10)"
   ]
  },
  {
   "cell_type": "markdown",
   "id": "bbae7c87",
   "metadata": {},
   "source": [
    "According to the domain knowledge, the number of loans taken and how they are paid are the parameters that affect the credit score, rather than the type of loan. As we have other features that affect credit score rather than type of loan and filling null values in Type_of_Loan column with appropriate values is not possible, we can drop Type_of_Loan column."
   ]
  },
  {
   "cell_type": "code",
   "execution_count": 104,
   "id": "61f2af0f",
   "metadata": {
    "ExecuteTime": {
     "end_time": "2022-09-12T10:24:56.501719Z",
     "start_time": "2022-09-12T10:24:56.439190Z"
    }
   },
   "outputs": [],
   "source": [
    "df.drop(columns=\"Type_of_Loan\", inplace=True)"
   ]
  },
  {
   "cell_type": "markdown",
   "id": "1b83c217",
   "metadata": {},
   "source": [
    "### Num_of_Delayed_Payment column"
   ]
  },
  {
   "cell_type": "code",
   "execution_count": 105,
   "id": "ff7abfb6",
   "metadata": {
    "ExecuteTime": {
     "end_time": "2022-09-12T10:25:47.654182Z",
     "start_time": "2022-09-12T10:25:47.639219Z"
    }
   },
   "outputs": [
    {
     "name": "stdout",
     "output_type": "stream",
     "text": [
      "Column name : Num_of_Delayed_Payment\n",
      "--------------------------------\n",
      "Number of nulls : 7002\n",
      "Percent of nulls : % 7.0\n",
      "Value_counts : \n",
      " NaN     7002\n",
      "19.0    5481\n",
      "17.0    5412\n",
      "16.0    5312\n",
      "10.0    5309\n",
      "15.0    5237\n",
      "18.0    5216\n",
      "20.0    5089\n",
      "12.0    5059\n",
      "9.0     4981\n",
      "Name: Num_of_Delayed_Payment, dtype: int64\n"
     ]
    }
   ],
   "source": [
    "# Checking the null values in Num_of_Delayed_Payment column\n",
    "\n",
    "null_check(\"Num_of_Delayed_Payment\")"
   ]
  },
  {
   "cell_type": "code",
   "execution_count": 106,
   "id": "981e8734",
   "metadata": {
    "ExecuteTime": {
     "end_time": "2022-09-12T10:25:57.114737Z",
     "start_time": "2022-09-12T10:25:57.066437Z"
    },
    "scrolled": true
   },
   "outputs": [
    {
     "data": {
      "text/plain": [
       "Customer_ID  Num_of_Delayed_Payment\n",
       "1006         12.0                      4\n",
       "             NaN                       1\n",
       "             10.0                      1\n",
       "             11.0                      1\n",
       "             13.0                      1\n",
       "1007         19.0                      6\n",
       "             20.0                      1\n",
       "             21.0                      1\n",
       "1008         11.0                      5\n",
       "             NaN                       2\n",
       "Name: Num_of_Delayed_Payment, dtype: int64"
      ]
     },
     "execution_count": 106,
     "metadata": {},
     "output_type": "execute_result"
    }
   ],
   "source": [
    "# Checking the null values in Num_of_Delayed_Payment column by grouping Customer_ID\n",
    "\n",
    "df.groupby(\"Customer_ID\").Num_of_Delayed_Payment.value_counts(dropna=False).head(10)"
   ]
  },
  {
   "cell_type": "code",
   "execution_count": 107,
   "id": "06057f01",
   "metadata": {
    "ExecuteTime": {
     "end_time": "2022-09-12T10:27:15.241052Z",
     "start_time": "2022-09-12T10:27:15.222326Z"
    }
   },
   "outputs": [
    {
     "data": {
      "text/html": [
       "<div>\n",
       "<style scoped>\n",
       "    .dataframe tbody tr th:only-of-type {\n",
       "        vertical-align: middle;\n",
       "    }\n",
       "\n",
       "    .dataframe tbody tr th {\n",
       "        vertical-align: top;\n",
       "    }\n",
       "\n",
       "    .dataframe thead th {\n",
       "        text-align: right;\n",
       "    }\n",
       "</style>\n",
       "<table border=\"1\" class=\"dataframe\">\n",
       "  <thead>\n",
       "    <tr style=\"text-align: right;\">\n",
       "      <th></th>\n",
       "      <th>ID</th>\n",
       "      <th>Customer_ID</th>\n",
       "      <th>Month</th>\n",
       "      <th>Name</th>\n",
       "      <th>Age</th>\n",
       "      <th>SSN</th>\n",
       "      <th>Occupation</th>\n",
       "      <th>Annual_Income</th>\n",
       "      <th>Monthly_Inhand_Salary</th>\n",
       "      <th>Num_Bank_Accounts</th>\n",
       "      <th>Num_Credit_Card</th>\n",
       "      <th>Interest_Rate</th>\n",
       "      <th>Num_of_Loan</th>\n",
       "      <th>Delay_from_due_date</th>\n",
       "      <th>Num_of_Delayed_Payment</th>\n",
       "      <th>Changed_Credit_Limit</th>\n",
       "      <th>Num_Credit_Inquiries</th>\n",
       "      <th>Credit_Mix</th>\n",
       "      <th>Outstanding_Debt</th>\n",
       "      <th>Credit_Utilization_Ratio</th>\n",
       "      <th>Credit_History_Age</th>\n",
       "      <th>Payment_of_Min_Amount</th>\n",
       "      <th>Total_EMI_per_month</th>\n",
       "      <th>Amount_invested_monthly</th>\n",
       "      <th>Payment_Behaviour</th>\n",
       "      <th>Monthly_Balance</th>\n",
       "      <th>Credit_Score</th>\n",
       "    </tr>\n",
       "  </thead>\n",
       "  <tbody>\n",
       "    <tr>\n",
       "      <th>22480</th>\n",
       "      <td>39354</td>\n",
       "      <td>1011</td>\n",
       "      <td>January</td>\n",
       "      <td>Terry Wadeu</td>\n",
       "      <td>43</td>\n",
       "      <td>422-13-0011</td>\n",
       "      <td>Writer</td>\n",
       "      <td>104142.56</td>\n",
       "      <td>8433.546667</td>\n",
       "      <td>3</td>\n",
       "      <td>5</td>\n",
       "      <td>5.0</td>\n",
       "      <td>3</td>\n",
       "      <td>15</td>\n",
       "      <td>17.0</td>\n",
       "      <td>15.28</td>\n",
       "      <td>6.0</td>\n",
       "      <td>NaN</td>\n",
       "      <td>1371.8</td>\n",
       "      <td>26.890190</td>\n",
       "      <td>14 Years and 11 Months</td>\n",
       "      <td>Yes</td>\n",
       "      <td>257.738646</td>\n",
       "      <td>292.212704</td>\n",
       "      <td>High_spent_Small_value_payments</td>\n",
       "      <td>553.403317</td>\n",
       "      <td>Standard</td>\n",
       "    </tr>\n",
       "    <tr>\n",
       "      <th>22481</th>\n",
       "      <td>39355</td>\n",
       "      <td>1011</td>\n",
       "      <td>February</td>\n",
       "      <td>Terry Wadeu</td>\n",
       "      <td>44</td>\n",
       "      <td>422-13-0011</td>\n",
       "      <td>Writer</td>\n",
       "      <td>104142.56</td>\n",
       "      <td>8433.546667</td>\n",
       "      <td>3</td>\n",
       "      <td>5</td>\n",
       "      <td>5.0</td>\n",
       "      <td>3</td>\n",
       "      <td>15</td>\n",
       "      <td>16.0</td>\n",
       "      <td>15.28</td>\n",
       "      <td>6.0</td>\n",
       "      <td>NaN</td>\n",
       "      <td>1371.8</td>\n",
       "      <td>36.633754</td>\n",
       "      <td>15 Years and 0 Months</td>\n",
       "      <td>Yes</td>\n",
       "      <td>257.738646</td>\n",
       "      <td>NaN</td>\n",
       "      <td>Low_spent_Small_value_payments</td>\n",
       "      <td>228.717730</td>\n",
       "      <td>Standard</td>\n",
       "    </tr>\n",
       "    <tr>\n",
       "      <th>22482</th>\n",
       "      <td>39356</td>\n",
       "      <td>1011</td>\n",
       "      <td>March</td>\n",
       "      <td>Terry Wadeu</td>\n",
       "      <td>44</td>\n",
       "      <td>422-13-0011</td>\n",
       "      <td>Writer</td>\n",
       "      <td>104142.56</td>\n",
       "      <td>8433.546667</td>\n",
       "      <td>3</td>\n",
       "      <td>5</td>\n",
       "      <td>5.0</td>\n",
       "      <td>3</td>\n",
       "      <td>20</td>\n",
       "      <td>14.0</td>\n",
       "      <td>15.28</td>\n",
       "      <td>6.0</td>\n",
       "      <td>Standard</td>\n",
       "      <td>1371.8</td>\n",
       "      <td>36.187409</td>\n",
       "      <td>NaN</td>\n",
       "      <td>Yes</td>\n",
       "      <td>257.738646</td>\n",
       "      <td>187.594897</td>\n",
       "      <td>High_spent_Medium_value_payments</td>\n",
       "      <td>648.021124</td>\n",
       "      <td>Standard</td>\n",
       "    </tr>\n",
       "    <tr>\n",
       "      <th>22483</th>\n",
       "      <td>39357</td>\n",
       "      <td>1011</td>\n",
       "      <td>April</td>\n",
       "      <td>Terry Wadeu</td>\n",
       "      <td>44</td>\n",
       "      <td>422-13-0011</td>\n",
       "      <td>Writer</td>\n",
       "      <td>104142.56</td>\n",
       "      <td>8433.546667</td>\n",
       "      <td>3</td>\n",
       "      <td>5</td>\n",
       "      <td>5.0</td>\n",
       "      <td>3</td>\n",
       "      <td>16</td>\n",
       "      <td>NaN</td>\n",
       "      <td>15.28</td>\n",
       "      <td>6.0</td>\n",
       "      <td>Standard</td>\n",
       "      <td>1371.8</td>\n",
       "      <td>30.476065</td>\n",
       "      <td>15 Years and 2 Months</td>\n",
       "      <td>Yes</td>\n",
       "      <td>257.738646</td>\n",
       "      <td>275.635710</td>\n",
       "      <td>Low_spent_Large_value_payments</td>\n",
       "      <td>579.980311</td>\n",
       "      <td>Standard</td>\n",
       "    </tr>\n",
       "    <tr>\n",
       "      <th>22484</th>\n",
       "      <td>39358</td>\n",
       "      <td>1011</td>\n",
       "      <td>May</td>\n",
       "      <td>Terry Wadeu</td>\n",
       "      <td>44</td>\n",
       "      <td>422-13-0011</td>\n",
       "      <td>Writer</td>\n",
       "      <td>104142.56</td>\n",
       "      <td>8433.546667</td>\n",
       "      <td>3</td>\n",
       "      <td>5</td>\n",
       "      <td>5.0</td>\n",
       "      <td>3</td>\n",
       "      <td>20</td>\n",
       "      <td>17.0</td>\n",
       "      <td>19.28</td>\n",
       "      <td>6.0</td>\n",
       "      <td>Standard</td>\n",
       "      <td>1371.8</td>\n",
       "      <td>35.932885</td>\n",
       "      <td>15 Years and 3 Months</td>\n",
       "      <td>NM</td>\n",
       "      <td>257.738646</td>\n",
       "      <td>487.806206</td>\n",
       "      <td>Low_spent_Medium_value_payments</td>\n",
       "      <td>377.809814</td>\n",
       "      <td>Standard</td>\n",
       "    </tr>\n",
       "    <tr>\n",
       "      <th>22485</th>\n",
       "      <td>39359</td>\n",
       "      <td>1011</td>\n",
       "      <td>June</td>\n",
       "      <td>Terry Wadeu</td>\n",
       "      <td>44</td>\n",
       "      <td>422-13-0011</td>\n",
       "      <td>Writer</td>\n",
       "      <td>104142.56</td>\n",
       "      <td>8433.546667</td>\n",
       "      <td>3</td>\n",
       "      <td>5</td>\n",
       "      <td>5.0</td>\n",
       "      <td>3</td>\n",
       "      <td>20</td>\n",
       "      <td>14.0</td>\n",
       "      <td>15.28</td>\n",
       "      <td>6.0</td>\n",
       "      <td>Standard</td>\n",
       "      <td>1371.8</td>\n",
       "      <td>32.785394</td>\n",
       "      <td>15 Years and 4 Months</td>\n",
       "      <td>Yes</td>\n",
       "      <td>257.738646</td>\n",
       "      <td>NaN</td>\n",
       "      <td>Low_spent_Small_value_payments</td>\n",
       "      <td>NaN</td>\n",
       "      <td>Standard</td>\n",
       "    </tr>\n",
       "    <tr>\n",
       "      <th>22486</th>\n",
       "      <td>39360</td>\n",
       "      <td>1011</td>\n",
       "      <td>July</td>\n",
       "      <td>Terry Wadeu</td>\n",
       "      <td>44</td>\n",
       "      <td>422-13-0011</td>\n",
       "      <td>Writer</td>\n",
       "      <td>104142.56</td>\n",
       "      <td>8433.546667</td>\n",
       "      <td>3</td>\n",
       "      <td>5</td>\n",
       "      <td>5.0</td>\n",
       "      <td>3</td>\n",
       "      <td>20</td>\n",
       "      <td>11.0</td>\n",
       "      <td>15.28</td>\n",
       "      <td>6.0</td>\n",
       "      <td>Standard</td>\n",
       "      <td>1371.8</td>\n",
       "      <td>33.647849</td>\n",
       "      <td>15 Years and 5 Months</td>\n",
       "      <td>Yes</td>\n",
       "      <td>257.738646</td>\n",
       "      <td>124.299524</td>\n",
       "      <td>High_spent_Large_value_payments</td>\n",
       "      <td>701.316497</td>\n",
       "      <td>Standard</td>\n",
       "    </tr>\n",
       "    <tr>\n",
       "      <th>22487</th>\n",
       "      <td>39361</td>\n",
       "      <td>1011</td>\n",
       "      <td>August</td>\n",
       "      <td>Terry Wadeu</td>\n",
       "      <td>44</td>\n",
       "      <td>422-13-0011</td>\n",
       "      <td>Writer</td>\n",
       "      <td>104142.56</td>\n",
       "      <td>8433.546667</td>\n",
       "      <td>3</td>\n",
       "      <td>5</td>\n",
       "      <td>5.0</td>\n",
       "      <td>3</td>\n",
       "      <td>24</td>\n",
       "      <td>14.0</td>\n",
       "      <td>15.28</td>\n",
       "      <td>692.0</td>\n",
       "      <td>Standard</td>\n",
       "      <td>1371.8</td>\n",
       "      <td>36.339502</td>\n",
       "      <td>15 Years and 6 Months</td>\n",
       "      <td>Yes</td>\n",
       "      <td>257.738646</td>\n",
       "      <td>481.799088</td>\n",
       "      <td>Low_spent_Medium_value_payments</td>\n",
       "      <td>383.816932</td>\n",
       "      <td>Standard</td>\n",
       "    </tr>\n",
       "  </tbody>\n",
       "</table>\n",
       "</div>"
      ],
      "text/plain": [
       "          ID  Customer_ID     Month         Name  Age          SSN Occupation  \\\n",
       "22480  39354         1011   January  Terry Wadeu   43  422-13-0011     Writer   \n",
       "22481  39355         1011  February  Terry Wadeu   44  422-13-0011     Writer   \n",
       "22482  39356         1011     March  Terry Wadeu   44  422-13-0011     Writer   \n",
       "22483  39357         1011     April  Terry Wadeu   44  422-13-0011     Writer   \n",
       "22484  39358         1011       May  Terry Wadeu   44  422-13-0011     Writer   \n",
       "22485  39359         1011      June  Terry Wadeu   44  422-13-0011     Writer   \n",
       "22486  39360         1011      July  Terry Wadeu   44  422-13-0011     Writer   \n",
       "22487  39361         1011    August  Terry Wadeu   44  422-13-0011     Writer   \n",
       "\n",
       "       Annual_Income  Monthly_Inhand_Salary  Num_Bank_Accounts  \\\n",
       "22480      104142.56            8433.546667                  3   \n",
       "22481      104142.56            8433.546667                  3   \n",
       "22482      104142.56            8433.546667                  3   \n",
       "22483      104142.56            8433.546667                  3   \n",
       "22484      104142.56            8433.546667                  3   \n",
       "22485      104142.56            8433.546667                  3   \n",
       "22486      104142.56            8433.546667                  3   \n",
       "22487      104142.56            8433.546667                  3   \n",
       "\n",
       "       Num_Credit_Card  Interest_Rate  Num_of_Loan  Delay_from_due_date  \\\n",
       "22480                5            5.0            3                   15   \n",
       "22481                5            5.0            3                   15   \n",
       "22482                5            5.0            3                   20   \n",
       "22483                5            5.0            3                   16   \n",
       "22484                5            5.0            3                   20   \n",
       "22485                5            5.0            3                   20   \n",
       "22486                5            5.0            3                   20   \n",
       "22487                5            5.0            3                   24   \n",
       "\n",
       "       Num_of_Delayed_Payment  Changed_Credit_Limit  Num_Credit_Inquiries  \\\n",
       "22480                    17.0                 15.28                   6.0   \n",
       "22481                    16.0                 15.28                   6.0   \n",
       "22482                    14.0                 15.28                   6.0   \n",
       "22483                     NaN                 15.28                   6.0   \n",
       "22484                    17.0                 19.28                   6.0   \n",
       "22485                    14.0                 15.28                   6.0   \n",
       "22486                    11.0                 15.28                   6.0   \n",
       "22487                    14.0                 15.28                 692.0   \n",
       "\n",
       "      Credit_Mix  Outstanding_Debt  Credit_Utilization_Ratio  \\\n",
       "22480        NaN            1371.8                 26.890190   \n",
       "22481        NaN            1371.8                 36.633754   \n",
       "22482   Standard            1371.8                 36.187409   \n",
       "22483   Standard            1371.8                 30.476065   \n",
       "22484   Standard            1371.8                 35.932885   \n",
       "22485   Standard            1371.8                 32.785394   \n",
       "22486   Standard            1371.8                 33.647849   \n",
       "22487   Standard            1371.8                 36.339502   \n",
       "\n",
       "           Credit_History_Age Payment_of_Min_Amount  Total_EMI_per_month  \\\n",
       "22480  14 Years and 11 Months                   Yes           257.738646   \n",
       "22481   15 Years and 0 Months                   Yes           257.738646   \n",
       "22482                     NaN                   Yes           257.738646   \n",
       "22483   15 Years and 2 Months                   Yes           257.738646   \n",
       "22484   15 Years and 3 Months                    NM           257.738646   \n",
       "22485   15 Years and 4 Months                   Yes           257.738646   \n",
       "22486   15 Years and 5 Months                   Yes           257.738646   \n",
       "22487   15 Years and 6 Months                   Yes           257.738646   \n",
       "\n",
       "       Amount_invested_monthly                 Payment_Behaviour  \\\n",
       "22480               292.212704   High_spent_Small_value_payments   \n",
       "22481                      NaN    Low_spent_Small_value_payments   \n",
       "22482               187.594897  High_spent_Medium_value_payments   \n",
       "22483               275.635710    Low_spent_Large_value_payments   \n",
       "22484               487.806206   Low_spent_Medium_value_payments   \n",
       "22485                      NaN    Low_spent_Small_value_payments   \n",
       "22486               124.299524   High_spent_Large_value_payments   \n",
       "22487               481.799088   Low_spent_Medium_value_payments   \n",
       "\n",
       "       Monthly_Balance Credit_Score  \n",
       "22480       553.403317     Standard  \n",
       "22481       228.717730     Standard  \n",
       "22482       648.021124     Standard  \n",
       "22483       579.980311     Standard  \n",
       "22484       377.809814     Standard  \n",
       "22485              NaN     Standard  \n",
       "22486       701.316497     Standard  \n",
       "22487       383.816932     Standard  "
      ]
     },
     "execution_count": 107,
     "metadata": {},
     "output_type": "execute_result"
    }
   ],
   "source": [
    "# checking the number of delayed payment values for Customer 1011\n",
    "\n",
    "df[df.Customer_ID == 1011]"
   ]
  },
  {
   "cell_type": "code",
   "execution_count": 108,
   "id": "5990128e",
   "metadata": {
    "ExecuteTime": {
     "end_time": "2022-09-12T10:27:26.252623Z",
     "start_time": "2022-09-12T10:27:25.396004Z"
    }
   },
   "outputs": [
    {
     "data": {
      "text/plain": [
       "Customer_ID\n",
       "1006    12.0\n",
       "1007    19.0\n",
       "1008    11.0\n",
       "1009    18.0\n",
       "1011    14.0\n",
       "1013     2.0\n",
       "1014    18.0\n",
       "1015    14.0\n",
       "1017    25.0\n",
       "1019     8.0\n",
       "Name: Num_of_Delayed_Payment, dtype: float64"
      ]
     },
     "execution_count": 108,
     "metadata": {},
     "output_type": "execute_result"
    }
   ],
   "source": [
    "# Checking the mode values in Num_of_Delayed_Payment column by grouping Customer_ID\n",
    "\n",
    "df.groupby(\"Customer_ID\").Num_of_Delayed_Payment.apply(lambda x: x.mode()[0]).head(10)"
   ]
  },
  {
   "cell_type": "code",
   "execution_count": 109,
   "id": "1c3103be",
   "metadata": {
    "ExecuteTime": {
     "end_time": "2022-09-12T10:31:46.987650Z",
     "start_time": "2022-09-12T10:31:45.124325Z"
    }
   },
   "outputs": [],
   "source": [
    "# Null values in Num_of_Delayed_Payment column can be filled with mode by grouping Customer_ID.\n",
    "    \n",
    "df[\"Num_of_Delayed_Payment\"] = df.groupby(\"Customer_ID\")[\"Num_of_Delayed_Payment\"].apply(lambda x : x.fillna(x.mode()[0]))"
   ]
  },
  {
   "cell_type": "markdown",
   "id": "bb354e3c",
   "metadata": {},
   "source": [
    "### Changed_Credit_Limit column"
   ]
  },
  {
   "cell_type": "code",
   "execution_count": 110,
   "id": "a1057cdf",
   "metadata": {
    "ExecuteTime": {
     "end_time": "2022-09-12T10:32:28.843079Z",
     "start_time": "2022-09-12T10:32:28.820961Z"
    }
   },
   "outputs": [
    {
     "name": "stdout",
     "output_type": "stream",
     "text": [
      "Column name : Changed_Credit_Limit\n",
      "--------------------------------\n",
      "Number of nulls : 2091\n",
      "Percent of nulls : % 2.09\n",
      "Value_counts : \n",
      " NaN      2091\n",
      "8.22      133\n",
      "11.50     127\n",
      "11.32     126\n",
      "7.35      121\n",
      "10.06     121\n",
      "8.23      115\n",
      "11.49     113\n",
      "7.69      110\n",
      "9.25      110\n",
      "Name: Changed_Credit_Limit, dtype: int64\n"
     ]
    }
   ],
   "source": [
    "# Checking the null values in Changed_Credit_Limit column\n",
    "\n",
    "null_check(\"Changed_Credit_Limit\")"
   ]
  },
  {
   "cell_type": "code",
   "execution_count": 111,
   "id": "63978a46",
   "metadata": {
    "ExecuteTime": {
     "end_time": "2022-09-12T10:32:31.838673Z",
     "start_time": "2022-09-12T10:32:31.797502Z"
    }
   },
   "outputs": [
    {
     "data": {
      "text/plain": [
       "Customer_ID  Changed_Credit_Limit\n",
       "1006         10.66                   8\n",
       "1007         5.13                    6\n",
       "             2.13                    1\n",
       "             12.13                   1\n",
       "1008         14.11                   8\n",
       "1009         16.91                   7\n",
       "             19.91                   1\n",
       "1011         15.28                   7\n",
       "             19.28                   1\n",
       "1013         3.06                    7\n",
       "Name: Changed_Credit_Limit, dtype: int64"
      ]
     },
     "execution_count": 111,
     "metadata": {},
     "output_type": "execute_result"
    }
   ],
   "source": [
    "# Checking the null values in Changed_Credit_Limit column by grouping Customer_ID\n",
    "\n",
    "df.groupby(\"Customer_ID\").Changed_Credit_Limit.value_counts(dropna=False).head(10)"
   ]
  },
  {
   "cell_type": "code",
   "execution_count": 112,
   "id": "b46e384a",
   "metadata": {
    "ExecuteTime": {
     "end_time": "2022-09-12T10:32:42.839745Z",
     "start_time": "2022-09-12T10:32:41.834166Z"
    }
   },
   "outputs": [],
   "source": [
    "# Null values in Changed_Credit_Limit column can be filled with ffill and bfill method by grouping Customer_ID.\n",
    "    \n",
    "df[\"Changed_Credit_Limit\"] = df.groupby(\"Customer_ID\")[\"Changed_Credit_Limit\"].fillna(method=\"ffill\").fillna(method=\"bfill\")"
   ]
  },
  {
   "cell_type": "markdown",
   "id": "7650e1e4",
   "metadata": {},
   "source": [
    "### Num_Credit_Inquiries column"
   ]
  },
  {
   "cell_type": "code",
   "execution_count": 113,
   "id": "d3ce787e",
   "metadata": {
    "ExecuteTime": {
     "end_time": "2022-09-12T10:36:19.586605Z",
     "start_time": "2022-09-12T10:36:19.574505Z"
    }
   },
   "outputs": [
    {
     "name": "stdout",
     "output_type": "stream",
     "text": [
      "Column name : Num_Credit_Inquiries\n",
      "--------------------------------\n",
      "Number of nulls : 1965\n",
      "Percent of nulls : % 1.96\n",
      "Value_counts : \n",
      " 4.0    11271\n",
      "3.0     8890\n",
      "6.0     8111\n",
      "7.0     8058\n",
      "2.0     8028\n",
      "8.0     7866\n",
      "1.0     7588\n",
      "0.0     6972\n",
      "5.0     5693\n",
      "9.0     5283\n",
      "Name: Num_Credit_Inquiries, dtype: int64\n"
     ]
    }
   ],
   "source": [
    "# Checking the null values in Num_Credit_Inquiries column\n",
    "\n",
    "null_check(\"Num_Credit_Inquiries\")"
   ]
  },
  {
   "cell_type": "code",
   "execution_count": 114,
   "id": "0d5aa5d9",
   "metadata": {
    "ExecuteTime": {
     "end_time": "2022-09-12T10:36:31.807963Z",
     "start_time": "2022-09-12T10:36:31.773876Z"
    },
    "scrolled": true
   },
   "outputs": [
    {
     "data": {
      "text/plain": [
       "Customer_ID  Num_Credit_Inquiries\n",
       "1006         8.0                     7\n",
       "             NaN                     1\n",
       "1007         1.0                     7\n",
       "             1196.0                  1\n",
       "1008         10.0                    7\n",
       "             6.0                     1\n",
       "1009         7.0                     8\n",
       "1011         6.0                     7\n",
       "             692.0                   1\n",
       "1013         1.0                     8\n",
       "Name: Num_Credit_Inquiries, dtype: int64"
      ]
     },
     "execution_count": 114,
     "metadata": {},
     "output_type": "execute_result"
    }
   ],
   "source": [
    "# Checking the null values in Num_Credit_Inquiries column by grouping Customer_ID\n",
    "\n",
    "df.groupby(\"Customer_ID\").Num_Credit_Inquiries.value_counts(dropna=False).head(10)"
   ]
  },
  {
   "cell_type": "code",
   "execution_count": 115,
   "id": "d7846cce",
   "metadata": {
    "ExecuteTime": {
     "end_time": "2022-09-12T10:36:50.079968Z",
     "start_time": "2022-09-12T10:36:48.354275Z"
    }
   },
   "outputs": [],
   "source": [
    "# Null values in Num_Credit_Inquiries column can be filled with ffill and bfill method by grouping Customer_ID.\n",
    " \n",
    "df[\"Num_Credit_Inquiries\"] = df.groupby(\"Customer_ID\")[\"Num_Credit_Inquiries\"].apply(lambda x : x.fillna(method=\"ffill\").fillna(method=\"bfill\"))"
   ]
  },
  {
   "cell_type": "markdown",
   "id": "e45f2996",
   "metadata": {},
   "source": [
    "### Credit_Mix column"
   ]
  },
  {
   "cell_type": "code",
   "execution_count": 116,
   "id": "766ebdc9",
   "metadata": {
    "ExecuteTime": {
     "end_time": "2022-09-12T10:37:21.219035Z",
     "start_time": "2022-09-12T10:37:21.201864Z"
    }
   },
   "outputs": [
    {
     "name": "stdout",
     "output_type": "stream",
     "text": [
      "Column name : Credit_Mix\n",
      "--------------------------------\n",
      "Number of nulls : 20195\n",
      "Percent of nulls : % 20.2\n",
      "Value_counts : \n",
      " Standard    36479\n",
      "Good        24337\n",
      "NaN         20195\n",
      "Bad         18989\n",
      "Name: Credit_Mix, dtype: int64\n"
     ]
    }
   ],
   "source": [
    "# Checking the null values in Credit_Mix column\n",
    "\n",
    "null_check(\"Credit_Mix\")"
   ]
  },
  {
   "cell_type": "code",
   "execution_count": 117,
   "id": "94dabb5f",
   "metadata": {
    "ExecuteTime": {
     "end_time": "2022-09-12T10:37:31.798382Z",
     "start_time": "2022-09-12T10:37:31.780435Z"
    }
   },
   "outputs": [
    {
     "data": {
      "text/plain": [
       "count        79805\n",
       "unique           3\n",
       "top       Standard\n",
       "freq         36479\n",
       "Name: Credit_Mix, dtype: object"
      ]
     },
     "execution_count": 117,
     "metadata": {},
     "output_type": "execute_result"
    }
   ],
   "source": [
    "# Checking the descriptive values of Credit_Mix column\n",
    "\n",
    "df.Credit_Mix.describe()"
   ]
  },
  {
   "cell_type": "code",
   "execution_count": 118,
   "id": "e160fa84",
   "metadata": {
    "ExecuteTime": {
     "end_time": "2022-09-12T10:37:40.767281Z",
     "start_time": "2022-09-12T10:37:40.728286Z"
    }
   },
   "outputs": [
    {
     "data": {
      "text/plain": [
       "Customer_ID  Credit_Mix\n",
       "1006         Standard      7\n",
       "             NaN           1\n",
       "1007         Standard      5\n",
       "             NaN           3\n",
       "1008         Standard      6\n",
       "             NaN           2\n",
       "1009         Standard      7\n",
       "             NaN           1\n",
       "1011         Standard      6\n",
       "             NaN           2\n",
       "Name: Credit_Mix, dtype: int64"
      ]
     },
     "execution_count": 118,
     "metadata": {},
     "output_type": "execute_result"
    }
   ],
   "source": [
    "# Checking the null values in Credit_Mix column by grouping Customer_ID\n",
    "\n",
    "df.groupby(\"Customer_ID\").Credit_Mix.value_counts(dropna=False).head(10)"
   ]
  },
  {
   "cell_type": "code",
   "execution_count": 119,
   "id": "5b5628c5",
   "metadata": {
    "ExecuteTime": {
     "end_time": "2022-09-12T10:37:50.943965Z",
     "start_time": "2022-09-12T10:37:50.907849Z"
    },
    "scrolled": true
   },
   "outputs": [
    {
     "data": {
      "text/html": [
       "<div>\n",
       "<style scoped>\n",
       "    .dataframe tbody tr th:only-of-type {\n",
       "        vertical-align: middle;\n",
       "    }\n",
       "\n",
       "    .dataframe tbody tr th {\n",
       "        vertical-align: top;\n",
       "    }\n",
       "\n",
       "    .dataframe thead th {\n",
       "        text-align: right;\n",
       "    }\n",
       "</style>\n",
       "<table border=\"1\" class=\"dataframe\">\n",
       "  <thead>\n",
       "    <tr style=\"text-align: right;\">\n",
       "      <th></th>\n",
       "      <th>Customer_ID</th>\n",
       "      <th>Credit_Mix</th>\n",
       "    </tr>\n",
       "  </thead>\n",
       "  <tbody>\n",
       "    <tr>\n",
       "      <th>0</th>\n",
       "      <td>3392</td>\n",
       "      <td>NaN</td>\n",
       "    </tr>\n",
       "    <tr>\n",
       "      <th>1</th>\n",
       "      <td>3392</td>\n",
       "      <td>Good</td>\n",
       "    </tr>\n",
       "    <tr>\n",
       "      <th>2</th>\n",
       "      <td>3392</td>\n",
       "      <td>Good</td>\n",
       "    </tr>\n",
       "    <tr>\n",
       "      <th>3</th>\n",
       "      <td>3392</td>\n",
       "      <td>Good</td>\n",
       "    </tr>\n",
       "    <tr>\n",
       "      <th>4</th>\n",
       "      <td>3392</td>\n",
       "      <td>Good</td>\n",
       "    </tr>\n",
       "    <tr>\n",
       "      <th>5</th>\n",
       "      <td>3392</td>\n",
       "      <td>Good</td>\n",
       "    </tr>\n",
       "    <tr>\n",
       "      <th>6</th>\n",
       "      <td>3392</td>\n",
       "      <td>Good</td>\n",
       "    </tr>\n",
       "    <tr>\n",
       "      <th>7</th>\n",
       "      <td>3392</td>\n",
       "      <td>Good</td>\n",
       "    </tr>\n",
       "    <tr>\n",
       "      <th>8</th>\n",
       "      <td>8625</td>\n",
       "      <td>Good</td>\n",
       "    </tr>\n",
       "    <tr>\n",
       "      <th>9</th>\n",
       "      <td>8625</td>\n",
       "      <td>Good</td>\n",
       "    </tr>\n",
       "  </tbody>\n",
       "</table>\n",
       "</div>"
      ],
      "text/plain": [
       "   Customer_ID Credit_Mix\n",
       "0         3392        NaN\n",
       "1         3392       Good\n",
       "2         3392       Good\n",
       "3         3392       Good\n",
       "4         3392       Good\n",
       "5         3392       Good\n",
       "6         3392       Good\n",
       "7         3392       Good\n",
       "8         8625       Good\n",
       "9         8625       Good"
      ]
     },
     "execution_count": 119,
     "metadata": {},
     "output_type": "execute_result"
    }
   ],
   "source": [
    "# Checking the Credit_Mix values for each Customer\n",
    "\n",
    "df[[\"Customer_ID\",\"Credit_Mix\"]].head(10)"
   ]
  },
  {
   "cell_type": "code",
   "execution_count": 120,
   "id": "245c3eb9",
   "metadata": {
    "ExecuteTime": {
     "end_time": "2022-09-12T10:38:11.943493Z",
     "start_time": "2022-09-12T10:38:09.491575Z"
    }
   },
   "outputs": [],
   "source": [
    "# According to the analysis above null values in Credit_Mix column can be filled with mode by grouping Customer_ID\n",
    "\n",
    "df[\"Credit_Mix\"] = df.groupby(\"Customer_ID\")[\"Credit_Mix\"].apply(lambda x : x.fillna(x.mode()[0]))"
   ]
  },
  {
   "cell_type": "markdown",
   "id": "ec8738c6",
   "metadata": {},
   "source": [
    "### Credit_History_Age column"
   ]
  },
  {
   "cell_type": "code",
   "execution_count": 121,
   "id": "0c099c07",
   "metadata": {
    "ExecuteTime": {
     "end_time": "2022-09-12T10:38:42.634952Z",
     "start_time": "2022-09-12T10:38:42.612606Z"
    }
   },
   "outputs": [
    {
     "name": "stdout",
     "output_type": "stream",
     "text": [
      "Column name : Credit_History_Age\n",
      "--------------------------------\n",
      "Number of nulls : 9030\n",
      "Percent of nulls : % 9.03\n",
      "Value_counts : \n",
      " NaN                       9030\n",
      "15 Years and 11 Months     446\n",
      "19 Years and 4 Months      445\n",
      "19 Years and 5 Months      444\n",
      "17 Years and 11 Months     443\n",
      "19 Years and 3 Months      441\n",
      "17 Years and 9 Months      438\n",
      "15 Years and 10 Months     436\n",
      "17 Years and 10 Months     435\n",
      "15 Years and 9 Months      432\n",
      "Name: Credit_History_Age, dtype: int64\n"
     ]
    }
   ],
   "source": [
    "# Checking the null values in Credit_History_Age column\n",
    "\n",
    "null_check(\"Credit_History_Age\")"
   ]
  },
  {
   "cell_type": "code",
   "execution_count": 122,
   "id": "61e790f3",
   "metadata": {
    "ExecuteTime": {
     "end_time": "2022-09-12T10:38:51.901219Z",
     "start_time": "2022-09-12T10:38:51.886457Z"
    }
   },
   "outputs": [],
   "source": [
    "# Defining a function to convert the Credit_History_Age values to month\n",
    "\n",
    "def Cred_Hist_Age (cha) :\n",
    "    if type(cha) == float :\n",
    "        return cha\n",
    "    else :\n",
    "        return int(cha.split()[0])*12 + int(cha.split()[3])"
   ]
  },
  {
   "cell_type": "code",
   "execution_count": 123,
   "id": "a3aa2d9e",
   "metadata": {
    "ExecuteTime": {
     "end_time": "2022-09-12T10:39:01.874223Z",
     "start_time": "2022-09-12T10:39:01.776434Z"
    }
   },
   "outputs": [],
   "source": [
    "# convert the Credit_History_Age values to month\n",
    "\n",
    "df[\"Credit_History_Age\"] = df.Credit_History_Age.apply(Cred_Hist_Age).astype(float)"
   ]
  },
  {
   "cell_type": "code",
   "execution_count": 124,
   "id": "eecd1cb1",
   "metadata": {
    "ExecuteTime": {
     "end_time": "2022-09-12T10:39:10.074392Z",
     "start_time": "2022-09-12T10:39:10.053304Z"
    },
    "scrolled": true
   },
   "outputs": [
    {
     "data": {
      "text/plain": [
       "0    265.0\n",
       "1      NaN\n",
       "2    267.0\n",
       "3    268.0\n",
       "4    269.0\n",
       "5    270.0\n",
       "6    271.0\n",
       "7      NaN\n",
       "8    319.0\n",
       "9    320.0\n",
       "Name: Credit_History_Age, dtype: float64"
      ]
     },
     "execution_count": 124,
     "metadata": {},
     "output_type": "execute_result"
    }
   ],
   "source": [
    "# Checking the Credit_History_Age values after converting to month\n",
    "\n",
    "df[\"Credit_History_Age\"].head(10)"
   ]
  },
  {
   "cell_type": "code",
   "execution_count": 125,
   "id": "e2b38640",
   "metadata": {
    "ExecuteTime": {
     "end_time": "2022-09-12T10:39:23.244016Z",
     "start_time": "2022-09-12T10:39:23.197069Z"
    },
    "scrolled": true
   },
   "outputs": [
    {
     "data": {
      "text/plain": [
       "Customer_ID  Credit_History_Age\n",
       "1006         182.0                 1\n",
       "             183.0                 1\n",
       "             184.0                 1\n",
       "             185.0                 1\n",
       "             186.0                 1\n",
       "             187.0                 1\n",
       "             188.0                 1\n",
       "             189.0                 1\n",
       "1007         NaN                   2\n",
       "             346.0                 1\n",
       "Name: Credit_History_Age, dtype: int64"
      ]
     },
     "execution_count": 125,
     "metadata": {},
     "output_type": "execute_result"
    }
   ],
   "source": [
    "# Checking the null values in Credit_History_Age column by grouping Customer_ID\n",
    "\n",
    "df.groupby(\"Customer_ID\")[\"Credit_History_Age\"].value_counts(dropna=False).head(10)"
   ]
  },
  {
   "cell_type": "code",
   "execution_count": 126,
   "id": "3fbfd99a",
   "metadata": {
    "ExecuteTime": {
     "end_time": "2022-09-12T10:39:36.521805Z",
     "start_time": "2022-09-12T10:39:36.505842Z"
    }
   },
   "outputs": [],
   "source": [
    "# Defining a function to fill null values in Credit_History_Age column with incrementally\n",
    "# TİP: first null values in Credit_History_Age column should be replaced with 0(zero) before using the defined function\n",
    "\n",
    "def fill_credit_history_age_incremental (x) :\n",
    "    if x.values[0] == 0 :\n",
    "        return np.arange((int(x.values[1])-1), (int(x.values[1])-1)+len(x))\n",
    "    else :\n",
    "        return np.arange(int(x.values[0]), int(x.values[0])+len(x))"
   ]
  },
  {
   "cell_type": "code",
   "execution_count": 127,
   "id": "57a434d7",
   "metadata": {
    "ExecuteTime": {
     "end_time": "2022-09-12T10:39:50.212642Z",
     "start_time": "2022-09-12T10:39:49.639677Z"
    }
   },
   "outputs": [],
   "source": [
    "# filling null values in Credit_History_Age column with incrementally\n",
    "\n",
    "df[\"Credit_History_Age\"] = df.Credit_History_Age.fillna(0) # firstly fill null values with 0 then apply the function defined\n",
    "\n",
    "\n",
    "# df[\"Credit_History_Age\"] = df.groupby(\"Customer_ID\")[\"Credit_History_Age\"].transform(lambda x : fill_credit_history_age_incremental(x))\n",
    "\n",
    "# or\n",
    "\n",
    "df[\"Credit_History_Age\"] = df.groupby(\"Customer_ID\")[\"Credit_History_Age\"].transform(fill_credit_history_age_incremental)"
   ]
  },
  {
   "cell_type": "markdown",
   "id": "19c21737",
   "metadata": {
    "ExecuteTime": {
     "end_time": "2022-09-12T10:40:09.583812Z",
     "start_time": "2022-09-12T10:40:09.569814Z"
    }
   },
   "source": [
    "### Amount_invested_monthly column"
   ]
  },
  {
   "cell_type": "code",
   "execution_count": 128,
   "id": "798c590c",
   "metadata": {
    "ExecuteTime": {
     "end_time": "2022-09-12T10:43:46.868535Z",
     "start_time": "2022-09-12T10:43:46.846546Z"
    }
   },
   "outputs": [
    {
     "name": "stdout",
     "output_type": "stream",
     "text": [
      "Column name : Amount_invested_monthly\n",
      "--------------------------------\n",
      "Number of nulls : 4479\n",
      "Percent of nulls : % 4.48\n",
      "Value_counts : \n",
      " NaN             4479\n",
      "10000.000000    4305\n",
      "0.000000         169\n",
      "36.662351          1\n",
      "89.738489          1\n",
      "59.937259          1\n",
      "165.180659         1\n",
      "62.030803          1\n",
      "215.577059         1\n",
      "44.611359          1\n",
      "Name: Amount_invested_monthly, dtype: int64\n"
     ]
    }
   ],
   "source": [
    "# Checking the null values in Amount_invested_monthly column\n",
    "\n",
    "null_check(\"Amount_invested_monthly\")"
   ]
  },
  {
   "cell_type": "code",
   "execution_count": 129,
   "id": "fbdf9acd",
   "metadata": {
    "ExecuteTime": {
     "end_time": "2022-09-12T10:44:00.056479Z",
     "start_time": "2022-09-12T10:43:59.998557Z"
    },
    "scrolled": true
   },
   "outputs": [
    {
     "data": {
      "text/plain": [
       "Customer_ID  Amount_invested_monthly\n",
       "1006         45.301068                  1\n",
       "             51.726244                  1\n",
       "             56.494982                  1\n",
       "             60.828288                  1\n",
       "             61.732715                  1\n",
       "             66.718248                  1\n",
       "             90.078423                  1\n",
       "             95.648648                  1\n",
       "1007         NaN                        1\n",
       "             30.373472                  1\n",
       "Name: Amount_invested_monthly, dtype: int64"
      ]
     },
     "execution_count": 129,
     "metadata": {},
     "output_type": "execute_result"
    }
   ],
   "source": [
    "# Checking the null values in Amount_invested_monthly column by grouping Customer_ID\n",
    "\n",
    "df.groupby(\"Customer_ID\").Amount_invested_monthly.value_counts(dropna=False).head(10)"
   ]
  },
  {
   "cell_type": "code",
   "execution_count": 130,
   "id": "1d2ddacf",
   "metadata": {
    "ExecuteTime": {
     "end_time": "2022-09-12T10:45:05.860977Z",
     "start_time": "2022-09-12T10:44:57.471384Z"
    }
   },
   "outputs": [
    {
     "data": {
      "text/html": [
       "<div>\n",
       "<style scoped>\n",
       "    .dataframe tbody tr th:only-of-type {\n",
       "        vertical-align: middle;\n",
       "    }\n",
       "\n",
       "    .dataframe tbody tr th {\n",
       "        vertical-align: top;\n",
       "    }\n",
       "\n",
       "    .dataframe thead th {\n",
       "        text-align: right;\n",
       "    }\n",
       "</style>\n",
       "<table border=\"1\" class=\"dataframe\">\n",
       "  <thead>\n",
       "    <tr style=\"text-align: right;\">\n",
       "      <th></th>\n",
       "      <th>count</th>\n",
       "      <th>mean</th>\n",
       "      <th>std</th>\n",
       "      <th>min</th>\n",
       "      <th>25%</th>\n",
       "      <th>50%</th>\n",
       "      <th>75%</th>\n",
       "      <th>max</th>\n",
       "    </tr>\n",
       "    <tr>\n",
       "      <th>Customer_ID</th>\n",
       "      <th></th>\n",
       "      <th></th>\n",
       "      <th></th>\n",
       "      <th></th>\n",
       "      <th></th>\n",
       "      <th></th>\n",
       "      <th></th>\n",
       "      <th></th>\n",
       "    </tr>\n",
       "  </thead>\n",
       "  <tbody>\n",
       "    <tr>\n",
       "      <th>1006</th>\n",
       "      <td>8.0</td>\n",
       "      <td>66.066077</td>\n",
       "      <td>17.835684</td>\n",
       "      <td>45.301068</td>\n",
       "      <td>55.302797</td>\n",
       "      <td>61.280501</td>\n",
       "      <td>72.558292</td>\n",
       "      <td>95.648648</td>\n",
       "    </tr>\n",
       "    <tr>\n",
       "      <th>1007</th>\n",
       "      <td>7.0</td>\n",
       "      <td>1494.809555</td>\n",
       "      <td>3750.671241</td>\n",
       "      <td>30.373472</td>\n",
       "      <td>51.814458</td>\n",
       "      <td>62.812486</td>\n",
       "      <td>133.426005</td>\n",
       "      <td>10000.000000</td>\n",
       "    </tr>\n",
       "    <tr>\n",
       "      <th>1008</th>\n",
       "      <td>7.0</td>\n",
       "      <td>167.094236</td>\n",
       "      <td>86.267981</td>\n",
       "      <td>74.198069</td>\n",
       "      <td>112.169039</td>\n",
       "      <td>165.204435</td>\n",
       "      <td>184.359666</td>\n",
       "      <td>337.199741</td>\n",
       "    </tr>\n",
       "    <tr>\n",
       "      <th>1009</th>\n",
       "      <td>8.0</td>\n",
       "      <td>217.806923</td>\n",
       "      <td>126.209154</td>\n",
       "      <td>101.120201</td>\n",
       "      <td>141.751476</td>\n",
       "      <td>175.009344</td>\n",
       "      <td>262.312412</td>\n",
       "      <td>492.397491</td>\n",
       "    </tr>\n",
       "    <tr>\n",
       "      <th>1011</th>\n",
       "      <td>6.0</td>\n",
       "      <td>308.224688</td>\n",
       "      <td>149.717088</td>\n",
       "      <td>124.299524</td>\n",
       "      <td>209.605100</td>\n",
       "      <td>283.924207</td>\n",
       "      <td>434.402492</td>\n",
       "      <td>487.806206</td>\n",
       "    </tr>\n",
       "    <tr>\n",
       "      <th>1013</th>\n",
       "      <td>8.0</td>\n",
       "      <td>118.205150</td>\n",
       "      <td>65.066768</td>\n",
       "      <td>53.342282</td>\n",
       "      <td>73.464382</td>\n",
       "      <td>87.144365</td>\n",
       "      <td>168.101341</td>\n",
       "      <td>233.307837</td>\n",
       "    </tr>\n",
       "    <tr>\n",
       "      <th>1014</th>\n",
       "      <td>8.0</td>\n",
       "      <td>215.490003</td>\n",
       "      <td>135.541679</td>\n",
       "      <td>49.065258</td>\n",
       "      <td>130.078088</td>\n",
       "      <td>213.118301</td>\n",
       "      <td>244.986151</td>\n",
       "      <td>471.074683</td>\n",
       "    </tr>\n",
       "    <tr>\n",
       "      <th>1015</th>\n",
       "      <td>7.0</td>\n",
       "      <td>116.653518</td>\n",
       "      <td>90.805503</td>\n",
       "      <td>32.228848</td>\n",
       "      <td>45.183284</td>\n",
       "      <td>91.991601</td>\n",
       "      <td>167.598153</td>\n",
       "      <td>266.791305</td>\n",
       "    </tr>\n",
       "    <tr>\n",
       "      <th>1017</th>\n",
       "      <td>8.0</td>\n",
       "      <td>78.114594</td>\n",
       "      <td>31.791424</td>\n",
       "      <td>31.228813</td>\n",
       "      <td>59.738139</td>\n",
       "      <td>84.253038</td>\n",
       "      <td>101.159509</td>\n",
       "      <td>119.133287</td>\n",
       "    </tr>\n",
       "    <tr>\n",
       "      <th>1019</th>\n",
       "      <td>8.0</td>\n",
       "      <td>2571.229443</td>\n",
       "      <td>4585.278561</td>\n",
       "      <td>38.604002</td>\n",
       "      <td>93.159377</td>\n",
       "      <td>108.171798</td>\n",
       "      <td>2616.610348</td>\n",
       "      <td>10000.000000</td>\n",
       "    </tr>\n",
       "  </tbody>\n",
       "</table>\n",
       "</div>"
      ],
      "text/plain": [
       "             count         mean          std         min         25%  \\\n",
       "Customer_ID                                                            \n",
       "1006           8.0    66.066077    17.835684   45.301068   55.302797   \n",
       "1007           7.0  1494.809555  3750.671241   30.373472   51.814458   \n",
       "1008           7.0   167.094236    86.267981   74.198069  112.169039   \n",
       "1009           8.0   217.806923   126.209154  101.120201  141.751476   \n",
       "1011           6.0   308.224688   149.717088  124.299524  209.605100   \n",
       "1013           8.0   118.205150    65.066768   53.342282   73.464382   \n",
       "1014           8.0   215.490003   135.541679   49.065258  130.078088   \n",
       "1015           7.0   116.653518    90.805503   32.228848   45.183284   \n",
       "1017           8.0    78.114594    31.791424   31.228813   59.738139   \n",
       "1019           8.0  2571.229443  4585.278561   38.604002   93.159377   \n",
       "\n",
       "                    50%          75%           max  \n",
       "Customer_ID                                         \n",
       "1006          61.280501    72.558292     95.648648  \n",
       "1007          62.812486   133.426005  10000.000000  \n",
       "1008         165.204435   184.359666    337.199741  \n",
       "1009         175.009344   262.312412    492.397491  \n",
       "1011         283.924207   434.402492    487.806206  \n",
       "1013          87.144365   168.101341    233.307837  \n",
       "1014         213.118301   244.986151    471.074683  \n",
       "1015          91.991601   167.598153    266.791305  \n",
       "1017          84.253038   101.159509    119.133287  \n",
       "1019         108.171798  2616.610348  10000.000000  "
      ]
     },
     "execution_count": 130,
     "metadata": {},
     "output_type": "execute_result"
    }
   ],
   "source": [
    "# Checking the descriptive values in Amount_invested_monthly column by grouping Customer_ID\n",
    "\n",
    "df.groupby(\"Customer_ID\").Amount_invested_monthly.describe().head(10)"
   ]
  },
  {
   "cell_type": "code",
   "execution_count": 131,
   "id": "0811f514",
   "metadata": {
    "ExecuteTime": {
     "end_time": "2022-09-12T10:45:50.324104Z",
     "start_time": "2022-09-12T10:45:48.936244Z"
    }
   },
   "outputs": [],
   "source": [
    "# According to the analysis above, null values in Amount_invested_monthly column can be filled with median by grouping Customer_ID\n",
    "\n",
    "df[\"Amount_invested_monthly\"] = df.groupby(\"Customer_ID\")[\"Amount_invested_monthly\"].apply(lambda x : x.fillna(x.median()))"
   ]
  },
  {
   "cell_type": "markdown",
   "id": "b52f8fe7",
   "metadata": {},
   "source": [
    "### Payment_Behaviour column"
   ]
  },
  {
   "cell_type": "code",
   "execution_count": 132,
   "id": "3b7e24a4",
   "metadata": {
    "ExecuteTime": {
     "end_time": "2022-09-12T10:46:20.080621Z",
     "start_time": "2022-09-12T10:46:20.054050Z"
    }
   },
   "outputs": [
    {
     "name": "stdout",
     "output_type": "stream",
     "text": [
      "Column name : Payment_Behaviour\n",
      "--------------------------------\n",
      "Number of nulls : 7600\n",
      "Percent of nulls : % 7.6\n",
      "Value_counts : \n",
      " Low_spent_Small_value_payments      25513\n",
      "High_spent_Medium_value_payments    17540\n",
      "Low_spent_Medium_value_payments     13861\n",
      "High_spent_Large_value_payments     13721\n",
      "High_spent_Small_value_payments     11340\n",
      "Low_spent_Large_value_payments      10425\n",
      "NaN                                  7600\n",
      "Name: Payment_Behaviour, dtype: int64\n"
     ]
    }
   ],
   "source": [
    "# Checking the null values in Payment_Behaviour column\n",
    "\n",
    "null_check(\"Payment_Behaviour\")"
   ]
  },
  {
   "cell_type": "code",
   "execution_count": 133,
   "id": "2486be59",
   "metadata": {
    "ExecuteTime": {
     "end_time": "2022-09-12T10:46:29.918048Z",
     "start_time": "2022-09-12T10:46:29.869111Z"
    }
   },
   "outputs": [
    {
     "data": {
      "text/plain": [
       "Customer_ID  Payment_Behaviour               \n",
       "1006         Low_spent_Large_value_payments      2\n",
       "             Low_spent_Small_value_payments      2\n",
       "             NaN                                 1\n",
       "             High_spent_Medium_value_payments    1\n",
       "             High_spent_Small_value_payments     1\n",
       "             Low_spent_Medium_value_payments     1\n",
       "1007         Low_spent_Small_value_payments      4\n",
       "             High_spent_Medium_value_payments    3\n",
       "             NaN                                 1\n",
       "1008         High_spent_Small_value_payments     3\n",
       "Name: Payment_Behaviour, dtype: int64"
      ]
     },
     "execution_count": 133,
     "metadata": {},
     "output_type": "execute_result"
    }
   ],
   "source": [
    "# Checking the null values in Payment_Behaviour column by grouping Customer_ID\n",
    "\n",
    "df.groupby(\"Customer_ID\").Payment_Behaviour.value_counts(dropna=False).head(10)"
   ]
  },
  {
   "cell_type": "markdown",
   "id": "ef3a4be1",
   "metadata": {},
   "source": [
    "According to the domain knowledge we have other features (such as Num_of_Delayed_Payment, Delay_from_due_date, Payment_of_Min_Amount, ..) that represents payment behaviour. And also filling null values in Type_of_Loan column with appropriate values is not possible. For the reasons explained above, we can drop Payment_Behaviour column."
   ]
  },
  {
   "cell_type": "code",
   "execution_count": 134,
   "id": "1c05ea20",
   "metadata": {
    "ExecuteTime": {
     "end_time": "2022-09-12T10:47:15.475450Z",
     "start_time": "2022-09-12T10:47:15.421330Z"
    }
   },
   "outputs": [],
   "source": [
    "df.drop(columns=\"Payment_Behaviour\", inplace=True)"
   ]
  },
  {
   "cell_type": "markdown",
   "id": "106ba3ea",
   "metadata": {},
   "source": [
    "### Monthly_Balance column"
   ]
  },
  {
   "cell_type": "code",
   "execution_count": 135,
   "id": "87f6eb2d",
   "metadata": {
    "ExecuteTime": {
     "end_time": "2022-09-12T10:47:58.631648Z",
     "start_time": "2022-09-12T10:47:58.600750Z"
    }
   },
   "outputs": [
    {
     "name": "stdout",
     "output_type": "stream",
     "text": [
      "Column name : Monthly_Balance\n",
      "--------------------------------\n",
      "Number of nulls : 1209\n",
      "Percent of nulls : % 1.21\n",
      "Value_counts : \n",
      " NaN           1209\n",
      "312.494089       1\n",
      "589.699342       1\n",
      "250.093168       1\n",
      "289.755075       1\n",
      "260.625832       1\n",
      "606.830389       1\n",
      "111.990521       1\n",
      "299.545375       1\n",
      "559.540554       1\n",
      "Name: Monthly_Balance, dtype: int64\n"
     ]
    }
   ],
   "source": [
    "# Checking the null values in Monthly_Balance column\n",
    "\n",
    "null_check(\"Monthly_Balance\")"
   ]
  },
  {
   "cell_type": "code",
   "execution_count": 136,
   "id": "16ddca53",
   "metadata": {
    "ExecuteTime": {
     "end_time": "2022-09-12T10:48:10.151514Z",
     "start_time": "2022-09-12T10:48:10.092384Z"
    },
    "scrolled": true
   },
   "outputs": [
    {
     "data": {
      "text/plain": [
       "Customer_ID  Monthly_Balance\n",
       "1006         280.044097         1\n",
       "             295.614321         1\n",
       "             309.197763         1\n",
       "             310.391676         1\n",
       "             323.966500         1\n",
       "             328.974496         1\n",
       "             333.960030         1\n",
       "             334.864456         1\n",
       "1007         239.464815         1\n",
       "             245.618985         1\n",
       "Name: Monthly_Balance, dtype: int64"
      ]
     },
     "execution_count": 136,
     "metadata": {},
     "output_type": "execute_result"
    }
   ],
   "source": [
    "# Checking the null values in Monthly_Balance column by grouping Customer_ID\n",
    "\n",
    "df.groupby(\"Customer_ID\").Monthly_Balance.value_counts(dropna=False).head(10)"
   ]
  },
  {
   "cell_type": "code",
   "execution_count": 137,
   "id": "7b89fd37",
   "metadata": {
    "ExecuteTime": {
     "end_time": "2022-09-12T10:48:37.314080Z",
     "start_time": "2022-09-12T10:48:23.837311Z"
    }
   },
   "outputs": [
    {
     "data": {
      "text/html": [
       "<div>\n",
       "<style scoped>\n",
       "    .dataframe tbody tr th:only-of-type {\n",
       "        vertical-align: middle;\n",
       "    }\n",
       "\n",
       "    .dataframe tbody tr th {\n",
       "        vertical-align: top;\n",
       "    }\n",
       "\n",
       "    .dataframe thead th {\n",
       "        text-align: right;\n",
       "    }\n",
       "</style>\n",
       "<table border=\"1\" class=\"dataframe\">\n",
       "  <thead>\n",
       "    <tr style=\"text-align: right;\">\n",
       "      <th>Customer_ID</th>\n",
       "      <th>1006</th>\n",
       "      <th>1007</th>\n",
       "      <th>1008</th>\n",
       "      <th>1009</th>\n",
       "      <th>1011</th>\n",
       "      <th>1013</th>\n",
       "      <th>1014</th>\n",
       "      <th>1015</th>\n",
       "      <th>1017</th>\n",
       "      <th>1019</th>\n",
       "    </tr>\n",
       "  </thead>\n",
       "  <tbody>\n",
       "    <tr>\n",
       "      <th>count</th>\n",
       "      <td>8.000000</td>\n",
       "      <td>8.000000</td>\n",
       "      <td>8.000000</td>\n",
       "      <td>8.000000</td>\n",
       "      <td>7.000000</td>\n",
       "      <td>8.000000</td>\n",
       "      <td>8.000000</td>\n",
       "      <td>8.000000</td>\n",
       "      <td>8.000000</td>\n",
       "      <td>8.000000</td>\n",
       "    </tr>\n",
       "    <tr>\n",
       "      <th>mean</th>\n",
       "      <td>314.626667</td>\n",
       "      <td>285.607087</td>\n",
       "      <td>362.407369</td>\n",
       "      <td>523.000149</td>\n",
       "      <td>496.152247</td>\n",
       "      <td>356.811815</td>\n",
       "      <td>458.586852</td>\n",
       "      <td>268.795818</td>\n",
       "      <td>293.417510</td>\n",
       "      <td>299.294272</td>\n",
       "    </tr>\n",
       "    <tr>\n",
       "      <th>std</th>\n",
       "      <td>19.571376</td>\n",
       "      <td>35.226049</td>\n",
       "      <td>68.814230</td>\n",
       "      <td>116.960687</td>\n",
       "      <td>170.101308</td>\n",
       "      <td>65.221016</td>\n",
       "      <td>120.817915</td>\n",
       "      <td>71.124471</td>\n",
       "      <td>25.886204</td>\n",
       "      <td>27.896229</td>\n",
       "    </tr>\n",
       "    <tr>\n",
       "      <th>min</th>\n",
       "      <td>280.044097</td>\n",
       "      <td>239.464815</td>\n",
       "      <td>218.303843</td>\n",
       "      <td>258.409580</td>\n",
       "      <td>228.717730</td>\n",
       "      <td>242.959128</td>\n",
       "      <td>233.002171</td>\n",
       "      <td>135.526078</td>\n",
       "      <td>268.648817</td>\n",
       "      <td>246.681334</td>\n",
       "    </tr>\n",
       "    <tr>\n",
       "      <th>25%</th>\n",
       "      <td>305.801902</td>\n",
       "      <td>260.520345</td>\n",
       "      <td>347.208442</td>\n",
       "      <td>494.750193</td>\n",
       "      <td>380.813373</td>\n",
       "      <td>300.665623</td>\n",
       "      <td>424.090704</td>\n",
       "      <td>240.703969</td>\n",
       "      <td>274.680356</td>\n",
       "      <td>290.918286</td>\n",
       "    </tr>\n",
       "    <tr>\n",
       "      <th>50%</th>\n",
       "      <td>317.179088</td>\n",
       "      <td>283.251084</td>\n",
       "      <td>362.466886</td>\n",
       "      <td>566.997305</td>\n",
       "      <td>553.403317</td>\n",
       "      <td>400.155792</td>\n",
       "      <td>465.958553</td>\n",
       "      <td>290.522638</td>\n",
       "      <td>281.107013</td>\n",
       "      <td>294.489864</td>\n",
       "    </tr>\n",
       "    <tr>\n",
       "      <th>75%</th>\n",
       "      <td>330.220879</td>\n",
       "      <td>313.095216</td>\n",
       "      <td>409.978715</td>\n",
       "      <td>584.756229</td>\n",
       "      <td>614.000718</td>\n",
       "      <td>403.035431</td>\n",
       "      <td>533.998767</td>\n",
       "      <td>326.355132</td>\n",
       "      <td>314.821846</td>\n",
       "      <td>321.473497</td>\n",
       "    </tr>\n",
       "    <tr>\n",
       "      <th>max</th>\n",
       "      <td>334.864456</td>\n",
       "      <td>334.619588</td>\n",
       "      <td>441.305514</td>\n",
       "      <td>629.686870</td>\n",
       "      <td>701.316497</td>\n",
       "      <td>404.877521</td>\n",
       "      <td>605.011597</td>\n",
       "      <td>330.088535</td>\n",
       "      <td>336.553291</td>\n",
       "      <td>333.557795</td>\n",
       "    </tr>\n",
       "  </tbody>\n",
       "</table>\n",
       "</div>"
      ],
      "text/plain": [
       "Customer_ID        1006        1007        1008        1009        1011  \\\n",
       "count          8.000000    8.000000    8.000000    8.000000    7.000000   \n",
       "mean         314.626667  285.607087  362.407369  523.000149  496.152247   \n",
       "std           19.571376   35.226049   68.814230  116.960687  170.101308   \n",
       "min          280.044097  239.464815  218.303843  258.409580  228.717730   \n",
       "25%          305.801902  260.520345  347.208442  494.750193  380.813373   \n",
       "50%          317.179088  283.251084  362.466886  566.997305  553.403317   \n",
       "75%          330.220879  313.095216  409.978715  584.756229  614.000718   \n",
       "max          334.864456  334.619588  441.305514  629.686870  701.316497   \n",
       "\n",
       "Customer_ID        1013        1014        1015        1017        1019  \n",
       "count          8.000000    8.000000    8.000000    8.000000    8.000000  \n",
       "mean         356.811815  458.586852  268.795818  293.417510  299.294272  \n",
       "std           65.221016  120.817915   71.124471   25.886204   27.896229  \n",
       "min          242.959128  233.002171  135.526078  268.648817  246.681334  \n",
       "25%          300.665623  424.090704  240.703969  274.680356  290.918286  \n",
       "50%          400.155792  465.958553  290.522638  281.107013  294.489864  \n",
       "75%          403.035431  533.998767  326.355132  314.821846  321.473497  \n",
       "max          404.877521  605.011597  330.088535  336.553291  333.557795  "
      ]
     },
     "execution_count": 137,
     "metadata": {},
     "output_type": "execute_result"
    }
   ],
   "source": [
    "# Checking the descriptive values in Monthly_Balance column by grouping Customer_ID\n",
    "\n",
    "df.groupby(\"Customer_ID\").Monthly_Balance.describe().head(10).T"
   ]
  },
  {
   "cell_type": "markdown",
   "id": "3d218641",
   "metadata": {},
   "source": [
    "According to the analysis above, firstly null values in Monthly_Balance column should be filled with interpolate method. Then the remaining blank values in the first row for each Customer should be filled with the minimum Monthly_Balance values of each Customer."
   ]
  },
  {
   "cell_type": "code",
   "execution_count": 138,
   "id": "8556cec4",
   "metadata": {
    "ExecuteTime": {
     "end_time": "2022-09-12T10:49:24.965670Z",
     "start_time": "2022-09-12T10:49:22.186176Z"
    }
   },
   "outputs": [],
   "source": [
    "df[\"Monthly_Balance\"] = df.groupby(\"Customer_ID\")[\"Monthly_Balance\"].apply(lambda x : x.interpolate().fillna(x.min()))"
   ]
  },
  {
   "cell_type": "code",
   "execution_count": 139,
   "id": "75c457ea",
   "metadata": {
    "ExecuteTime": {
     "end_time": "2022-09-12T10:50:43.491483Z",
     "start_time": "2022-09-12T10:50:30.042579Z"
    }
   },
   "outputs": [
    {
     "data": {
      "text/html": [
       "<div>\n",
       "<style scoped>\n",
       "    .dataframe tbody tr th:only-of-type {\n",
       "        vertical-align: middle;\n",
       "    }\n",
       "\n",
       "    .dataframe tbody tr th {\n",
       "        vertical-align: top;\n",
       "    }\n",
       "\n",
       "    .dataframe thead th {\n",
       "        text-align: right;\n",
       "    }\n",
       "</style>\n",
       "<table border=\"1\" class=\"dataframe\">\n",
       "  <thead>\n",
       "    <tr style=\"text-align: right;\">\n",
       "      <th>Customer_ID</th>\n",
       "      <th>1006</th>\n",
       "      <th>1007</th>\n",
       "      <th>1008</th>\n",
       "      <th>1009</th>\n",
       "      <th>1011</th>\n",
       "      <th>1013</th>\n",
       "      <th>1014</th>\n",
       "      <th>1015</th>\n",
       "      <th>1017</th>\n",
       "      <th>1019</th>\n",
       "    </tr>\n",
       "  </thead>\n",
       "  <tbody>\n",
       "    <tr>\n",
       "      <th>count</th>\n",
       "      <td>8.000000</td>\n",
       "      <td>8.000000</td>\n",
       "      <td>8.000000</td>\n",
       "      <td>8.000000</td>\n",
       "      <td>8.000000</td>\n",
       "      <td>8.000000</td>\n",
       "      <td>8.000000</td>\n",
       "      <td>8.000000</td>\n",
       "      <td>8.000000</td>\n",
       "      <td>8.000000</td>\n",
       "    </tr>\n",
       "    <tr>\n",
       "      <th>mean</th>\n",
       "      <td>314.626667</td>\n",
       "      <td>285.607087</td>\n",
       "      <td>362.407369</td>\n",
       "      <td>523.000149</td>\n",
       "      <td>501.578610</td>\n",
       "      <td>356.811815</td>\n",
       "      <td>458.586852</td>\n",
       "      <td>268.795818</td>\n",
       "      <td>293.417510</td>\n",
       "      <td>299.294272</td>\n",
       "    </tr>\n",
       "    <tr>\n",
       "      <th>std</th>\n",
       "      <td>19.571376</td>\n",
       "      <td>35.226049</td>\n",
       "      <td>68.814230</td>\n",
       "      <td>116.960687</td>\n",
       "      <td>158.229342</td>\n",
       "      <td>65.221016</td>\n",
       "      <td>120.817915</td>\n",
       "      <td>71.124471</td>\n",
       "      <td>25.886204</td>\n",
       "      <td>27.896229</td>\n",
       "    </tr>\n",
       "    <tr>\n",
       "      <th>min</th>\n",
       "      <td>280.044097</td>\n",
       "      <td>239.464815</td>\n",
       "      <td>218.303843</td>\n",
       "      <td>258.409580</td>\n",
       "      <td>228.717730</td>\n",
       "      <td>242.959128</td>\n",
       "      <td>233.002171</td>\n",
       "      <td>135.526078</td>\n",
       "      <td>268.648817</td>\n",
       "      <td>246.681334</td>\n",
       "    </tr>\n",
       "    <tr>\n",
       "      <th>25%</th>\n",
       "      <td>305.801902</td>\n",
       "      <td>260.520345</td>\n",
       "      <td>347.208442</td>\n",
       "      <td>494.750193</td>\n",
       "      <td>382.315153</td>\n",
       "      <td>300.665623</td>\n",
       "      <td>424.090704</td>\n",
       "      <td>240.703969</td>\n",
       "      <td>274.680356</td>\n",
       "      <td>290.918286</td>\n",
       "    </tr>\n",
       "    <tr>\n",
       "      <th>50%</th>\n",
       "      <td>317.179088</td>\n",
       "      <td>283.251084</td>\n",
       "      <td>362.466886</td>\n",
       "      <td>566.997305</td>\n",
       "      <td>546.483236</td>\n",
       "      <td>400.155792</td>\n",
       "      <td>465.958553</td>\n",
       "      <td>290.522638</td>\n",
       "      <td>281.107013</td>\n",
       "      <td>294.489864</td>\n",
       "    </tr>\n",
       "    <tr>\n",
       "      <th>75%</th>\n",
       "      <td>330.220879</td>\n",
       "      <td>313.095216</td>\n",
       "      <td>409.978715</td>\n",
       "      <td>584.756229</td>\n",
       "      <td>596.990514</td>\n",
       "      <td>403.035431</td>\n",
       "      <td>533.998767</td>\n",
       "      <td>326.355132</td>\n",
       "      <td>314.821846</td>\n",
       "      <td>321.473497</td>\n",
       "    </tr>\n",
       "    <tr>\n",
       "      <th>max</th>\n",
       "      <td>334.864456</td>\n",
       "      <td>334.619588</td>\n",
       "      <td>441.305514</td>\n",
       "      <td>629.686870</td>\n",
       "      <td>701.316497</td>\n",
       "      <td>404.877521</td>\n",
       "      <td>605.011597</td>\n",
       "      <td>330.088535</td>\n",
       "      <td>336.553291</td>\n",
       "      <td>333.557795</td>\n",
       "    </tr>\n",
       "  </tbody>\n",
       "</table>\n",
       "</div>"
      ],
      "text/plain": [
       "Customer_ID        1006        1007        1008        1009        1011  \\\n",
       "count          8.000000    8.000000    8.000000    8.000000    8.000000   \n",
       "mean         314.626667  285.607087  362.407369  523.000149  501.578610   \n",
       "std           19.571376   35.226049   68.814230  116.960687  158.229342   \n",
       "min          280.044097  239.464815  218.303843  258.409580  228.717730   \n",
       "25%          305.801902  260.520345  347.208442  494.750193  382.315153   \n",
       "50%          317.179088  283.251084  362.466886  566.997305  546.483236   \n",
       "75%          330.220879  313.095216  409.978715  584.756229  596.990514   \n",
       "max          334.864456  334.619588  441.305514  629.686870  701.316497   \n",
       "\n",
       "Customer_ID        1013        1014        1015        1017        1019  \n",
       "count          8.000000    8.000000    8.000000    8.000000    8.000000  \n",
       "mean         356.811815  458.586852  268.795818  293.417510  299.294272  \n",
       "std           65.221016  120.817915   71.124471   25.886204   27.896229  \n",
       "min          242.959128  233.002171  135.526078  268.648817  246.681334  \n",
       "25%          300.665623  424.090704  240.703969  274.680356  290.918286  \n",
       "50%          400.155792  465.958553  290.522638  281.107013  294.489864  \n",
       "75%          403.035431  533.998767  326.355132  314.821846  321.473497  \n",
       "max          404.877521  605.011597  330.088535  336.553291  333.557795  "
      ]
     },
     "execution_count": 139,
     "metadata": {},
     "output_type": "execute_result"
    }
   ],
   "source": [
    "# Checking the descriptive values in Monthly_Balance column after filling missing values\n",
    "\n",
    "df.groupby(\"Customer_ID\").Monthly_Balance.describe().head(10).T"
   ]
  },
  {
   "cell_type": "code",
   "execution_count": 140,
   "id": "8f881852",
   "metadata": {
    "ExecuteTime": {
     "end_time": "2022-09-12T10:53:52.174601Z",
     "start_time": "2022-09-12T10:53:52.084240Z"
    }
   },
   "outputs": [
    {
     "data": {
      "text/plain": [
       "ID                          0\n",
       "Customer_ID                 0\n",
       "Month                       0\n",
       "Name                        0\n",
       "Age                         0\n",
       "SSN                         0\n",
       "Occupation                  0\n",
       "Annual_Income               0\n",
       "Monthly_Inhand_Salary       0\n",
       "Num_Bank_Accounts           0\n",
       "Num_Credit_Card             0\n",
       "Interest_Rate               0\n",
       "Num_of_Loan                 0\n",
       "Delay_from_due_date         0\n",
       "Num_of_Delayed_Payment      0\n",
       "Changed_Credit_Limit        0\n",
       "Num_Credit_Inquiries        0\n",
       "Credit_Mix                  0\n",
       "Outstanding_Debt            0\n",
       "Credit_Utilization_Ratio    0\n",
       "Credit_History_Age          0\n",
       "Payment_of_Min_Amount       0\n",
       "Total_EMI_per_month         0\n",
       "Amount_invested_monthly     0\n",
       "Monthly_Balance             0\n",
       "Credit_Score                0\n",
       "dtype: int64"
      ]
     },
     "execution_count": 140,
     "metadata": {},
     "output_type": "execute_result"
    }
   ],
   "source": [
    "# Last check for null values in df\n",
    "\n",
    "df.isnull().sum()"
   ]
  },
  {
   "cell_type": "code",
   "execution_count": 141,
   "id": "5d8a8f03",
   "metadata": {
    "ExecuteTime": {
     "end_time": "2022-09-12T11:03:01.545444Z",
     "start_time": "2022-09-12T11:03:00.460131Z"
    }
   },
   "outputs": [],
   "source": [
    "# saving cleaned data as \"df_cleaned.csv\"\n",
    "df.to_csv(\"df_cleaned.csv\", index=False)"
   ]
  },
  {
   "cell_type": "code",
   "execution_count": 142,
   "id": "775f7466",
   "metadata": {
    "ExecuteTime": {
     "end_time": "2022-09-12T11:03:01.858897Z",
     "start_time": "2022-09-12T11:03:01.547444Z"
    }
   },
   "outputs": [
    {
     "data": {
      "text/html": [
       "<div>\n",
       "<style scoped>\n",
       "    .dataframe tbody tr th:only-of-type {\n",
       "        vertical-align: middle;\n",
       "    }\n",
       "\n",
       "    .dataframe tbody tr th {\n",
       "        vertical-align: top;\n",
       "    }\n",
       "\n",
       "    .dataframe thead th {\n",
       "        text-align: right;\n",
       "    }\n",
       "</style>\n",
       "<table border=\"1\" class=\"dataframe\">\n",
       "  <thead>\n",
       "    <tr style=\"text-align: right;\">\n",
       "      <th></th>\n",
       "      <th>ID</th>\n",
       "      <th>Customer_ID</th>\n",
       "      <th>Month</th>\n",
       "      <th>Name</th>\n",
       "      <th>Age</th>\n",
       "      <th>SSN</th>\n",
       "      <th>Occupation</th>\n",
       "      <th>Annual_Income</th>\n",
       "      <th>Monthly_Inhand_Salary</th>\n",
       "      <th>Num_Bank_Accounts</th>\n",
       "      <th>Num_Credit_Card</th>\n",
       "      <th>Interest_Rate</th>\n",
       "      <th>Num_of_Loan</th>\n",
       "      <th>Delay_from_due_date</th>\n",
       "      <th>Num_of_Delayed_Payment</th>\n",
       "      <th>Changed_Credit_Limit</th>\n",
       "      <th>Num_Credit_Inquiries</th>\n",
       "      <th>Credit_Mix</th>\n",
       "      <th>Outstanding_Debt</th>\n",
       "      <th>Credit_Utilization_Ratio</th>\n",
       "      <th>Credit_History_Age</th>\n",
       "      <th>Payment_of_Min_Amount</th>\n",
       "      <th>Total_EMI_per_month</th>\n",
       "      <th>Amount_invested_monthly</th>\n",
       "      <th>Monthly_Balance</th>\n",
       "      <th>Credit_Score</th>\n",
       "    </tr>\n",
       "  </thead>\n",
       "  <tbody>\n",
       "    <tr>\n",
       "      <th>0</th>\n",
       "      <td>5634</td>\n",
       "      <td>3392</td>\n",
       "      <td>January</td>\n",
       "      <td>Aaron Maashoh</td>\n",
       "      <td>23</td>\n",
       "      <td>821-00-0265</td>\n",
       "      <td>Scientist</td>\n",
       "      <td>19114.12</td>\n",
       "      <td>1824.843333</td>\n",
       "      <td>3</td>\n",
       "      <td>4</td>\n",
       "      <td>3.0</td>\n",
       "      <td>4</td>\n",
       "      <td>3</td>\n",
       "      <td>7.0</td>\n",
       "      <td>11.27</td>\n",
       "      <td>4.0</td>\n",
       "      <td>Good</td>\n",
       "      <td>809.98</td>\n",
       "      <td>26.822620</td>\n",
       "      <td>265</td>\n",
       "      <td>No</td>\n",
       "      <td>49.574949</td>\n",
       "      <td>80.415295</td>\n",
       "      <td>312.494089</td>\n",
       "      <td>Good</td>\n",
       "    </tr>\n",
       "    <tr>\n",
       "      <th>1</th>\n",
       "      <td>5635</td>\n",
       "      <td>3392</td>\n",
       "      <td>February</td>\n",
       "      <td>Aaron Maashoh</td>\n",
       "      <td>23</td>\n",
       "      <td>821-00-0265</td>\n",
       "      <td>Scientist</td>\n",
       "      <td>19114.12</td>\n",
       "      <td>1824.843333</td>\n",
       "      <td>3</td>\n",
       "      <td>4</td>\n",
       "      <td>3.0</td>\n",
       "      <td>4</td>\n",
       "      <td>-1</td>\n",
       "      <td>4.0</td>\n",
       "      <td>11.27</td>\n",
       "      <td>4.0</td>\n",
       "      <td>Good</td>\n",
       "      <td>809.98</td>\n",
       "      <td>31.944960</td>\n",
       "      <td>266</td>\n",
       "      <td>No</td>\n",
       "      <td>49.574949</td>\n",
       "      <td>118.280222</td>\n",
       "      <td>284.629162</td>\n",
       "      <td>Good</td>\n",
       "    </tr>\n",
       "    <tr>\n",
       "      <th>2</th>\n",
       "      <td>5636</td>\n",
       "      <td>3392</td>\n",
       "      <td>March</td>\n",
       "      <td>Aaron Maashoh</td>\n",
       "      <td>-500</td>\n",
       "      <td>821-00-0265</td>\n",
       "      <td>Scientist</td>\n",
       "      <td>19114.12</td>\n",
       "      <td>1824.843333</td>\n",
       "      <td>3</td>\n",
       "      <td>4</td>\n",
       "      <td>3.0</td>\n",
       "      <td>4</td>\n",
       "      <td>3</td>\n",
       "      <td>7.0</td>\n",
       "      <td>11.27</td>\n",
       "      <td>4.0</td>\n",
       "      <td>Good</td>\n",
       "      <td>809.98</td>\n",
       "      <td>28.609352</td>\n",
       "      <td>267</td>\n",
       "      <td>No</td>\n",
       "      <td>49.574949</td>\n",
       "      <td>81.699521</td>\n",
       "      <td>331.209863</td>\n",
       "      <td>Good</td>\n",
       "    </tr>\n",
       "    <tr>\n",
       "      <th>3</th>\n",
       "      <td>5637</td>\n",
       "      <td>3392</td>\n",
       "      <td>April</td>\n",
       "      <td>Aaron Maashoh</td>\n",
       "      <td>23</td>\n",
       "      <td>821-00-0265</td>\n",
       "      <td>Scientist</td>\n",
       "      <td>19114.12</td>\n",
       "      <td>1824.843333</td>\n",
       "      <td>3</td>\n",
       "      <td>4</td>\n",
       "      <td>3.0</td>\n",
       "      <td>4</td>\n",
       "      <td>5</td>\n",
       "      <td>4.0</td>\n",
       "      <td>6.27</td>\n",
       "      <td>4.0</td>\n",
       "      <td>Good</td>\n",
       "      <td>809.98</td>\n",
       "      <td>31.377862</td>\n",
       "      <td>268</td>\n",
       "      <td>No</td>\n",
       "      <td>49.574949</td>\n",
       "      <td>199.458074</td>\n",
       "      <td>223.451310</td>\n",
       "      <td>Good</td>\n",
       "    </tr>\n",
       "    <tr>\n",
       "      <th>4</th>\n",
       "      <td>5638</td>\n",
       "      <td>3392</td>\n",
       "      <td>May</td>\n",
       "      <td>Aaron Maashoh</td>\n",
       "      <td>23</td>\n",
       "      <td>821-00-0265</td>\n",
       "      <td>Scientist</td>\n",
       "      <td>19114.12</td>\n",
       "      <td>1824.843333</td>\n",
       "      <td>3</td>\n",
       "      <td>4</td>\n",
       "      <td>3.0</td>\n",
       "      <td>4</td>\n",
       "      <td>6</td>\n",
       "      <td>4.0</td>\n",
       "      <td>11.27</td>\n",
       "      <td>4.0</td>\n",
       "      <td>Good</td>\n",
       "      <td>809.98</td>\n",
       "      <td>24.797347</td>\n",
       "      <td>269</td>\n",
       "      <td>No</td>\n",
       "      <td>49.574949</td>\n",
       "      <td>41.420153</td>\n",
       "      <td>341.489231</td>\n",
       "      <td>Good</td>\n",
       "    </tr>\n",
       "  </tbody>\n",
       "</table>\n",
       "</div>"
      ],
      "text/plain": [
       "     ID  Customer_ID     Month           Name  Age          SSN Occupation  \\\n",
       "0  5634         3392   January  Aaron Maashoh   23  821-00-0265  Scientist   \n",
       "1  5635         3392  February  Aaron Maashoh   23  821-00-0265  Scientist   \n",
       "2  5636         3392     March  Aaron Maashoh -500  821-00-0265  Scientist   \n",
       "3  5637         3392     April  Aaron Maashoh   23  821-00-0265  Scientist   \n",
       "4  5638         3392       May  Aaron Maashoh   23  821-00-0265  Scientist   \n",
       "\n",
       "   Annual_Income  Monthly_Inhand_Salary  Num_Bank_Accounts  Num_Credit_Card  \\\n",
       "0       19114.12            1824.843333                  3                4   \n",
       "1       19114.12            1824.843333                  3                4   \n",
       "2       19114.12            1824.843333                  3                4   \n",
       "3       19114.12            1824.843333                  3                4   \n",
       "4       19114.12            1824.843333                  3                4   \n",
       "\n",
       "   Interest_Rate  Num_of_Loan  Delay_from_due_date  Num_of_Delayed_Payment  \\\n",
       "0            3.0            4                    3                     7.0   \n",
       "1            3.0            4                   -1                     4.0   \n",
       "2            3.0            4                    3                     7.0   \n",
       "3            3.0            4                    5                     4.0   \n",
       "4            3.0            4                    6                     4.0   \n",
       "\n",
       "   Changed_Credit_Limit  Num_Credit_Inquiries Credit_Mix  Outstanding_Debt  \\\n",
       "0                 11.27                   4.0       Good            809.98   \n",
       "1                 11.27                   4.0       Good            809.98   \n",
       "2                 11.27                   4.0       Good            809.98   \n",
       "3                  6.27                   4.0       Good            809.98   \n",
       "4                 11.27                   4.0       Good            809.98   \n",
       "\n",
       "   Credit_Utilization_Ratio  Credit_History_Age Payment_of_Min_Amount  \\\n",
       "0                 26.822620                 265                    No   \n",
       "1                 31.944960                 266                    No   \n",
       "2                 28.609352                 267                    No   \n",
       "3                 31.377862                 268                    No   \n",
       "4                 24.797347                 269                    No   \n",
       "\n",
       "   Total_EMI_per_month  Amount_invested_monthly  Monthly_Balance Credit_Score  \n",
       "0            49.574949                80.415295       312.494089         Good  \n",
       "1            49.574949               118.280222       284.629162         Good  \n",
       "2            49.574949                81.699521       331.209863         Good  \n",
       "3            49.574949               199.458074       223.451310         Good  \n",
       "4            49.574949                41.420153       341.489231         Good  "
      ]
     },
     "execution_count": 142,
     "metadata": {},
     "output_type": "execute_result"
    }
   ],
   "source": [
    "pd.read_csv(\"df_cleaned.csv\").head()"
   ]
  },
  {
   "cell_type": "markdown",
   "id": "139bb37e",
   "metadata": {},
   "source": [
    "## <p style=\"background-color:#7da6ff; font-family:arial; color:#09042b; font-size:175%; text-align:center; border-radius:10px 10px;\">Handling With Outliers</p>\n",
    "\n",
    "<a id=\"6\"></a>\n",
    "<a href=\"#toc\" class=\"btn btn-primary btn-sm\" role=\"button\" aria-pressed=\"true\" \n",
    "style=\"color:#09042b; background-color:#7da6ff\" data-toggle=\"popover\">Content</a>"
   ]
  },
  {
   "cell_type": "markdown",
   "id": "93826a31",
   "metadata": {},
   "source": [
    "Finally we have completed to fill missing values in df. We can move to the next step which is handling with outliers. This step will be worked next notebook."
   ]
  }
 ],
 "metadata": {
  "celltoolbar": "Raw Cell Format",
  "kernelspec": {
   "display_name": "Python 3 (ipykernel)",
   "language": "python",
   "name": "python3"
  },
  "language_info": {
   "codemirror_mode": {
    "name": "ipython",
    "version": 3
   },
   "file_extension": ".py",
   "mimetype": "text/x-python",
   "name": "python",
   "nbconvert_exporter": "python",
   "pygments_lexer": "ipython3",
   "version": "3.9.13"
  },
  "toc": {
   "base_numbering": 1,
   "nav_menu": {},
   "number_sections": false,
   "sideBar": true,
   "skip_h1_title": false,
   "title_cell": "Table of Contents",
   "title_sidebar": "Contents",
   "toc_cell": false,
   "toc_position": {
    "height": "calc(100% - 180px)",
    "left": "10px",
    "top": "150px",
    "width": "303.82px"
   },
   "toc_section_display": true,
   "toc_window_display": true
  }
 },
 "nbformat": 4,
 "nbformat_minor": 5
}
